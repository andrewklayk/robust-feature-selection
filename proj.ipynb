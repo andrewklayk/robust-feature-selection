{
 "cells": [
  {
   "cell_type": "code",
   "execution_count": 45,
   "metadata": {},
   "outputs": [],
   "source": [
    "import os\n",
    "\n",
    "import numpy as np\n",
    "import pandas as pd\n",
    "import sklearn\n",
    "from sklearn.linear_model import LogisticRegression\n",
    "from sklearn.model_selection import train_test_split\n",
    "from sklearn.feature_selection import RFE, chi2, SelectPercentile, SelectKBest, mutual_info_classif\n",
    "from sklearn.preprocessing import StandardScaler\n",
    "from sklearn.base import clone\n",
    "from sklearn.ensemble import RandomForestClassifier\n",
    "from sklearn.pipeline import Pipeline\n",
    "from sklearn.compose import ColumnTransformer, make_column_selector\n",
    "\n",
    "# %matplotlib ipympl\n",
    "import matplotlib.pyplot as plt\n",
    "import matplotlib as mpl\n",
    "\n",
    "# import seaborn as sns"
   ]
  },
  {
   "cell_type": "code",
   "execution_count": 26,
   "metadata": {},
   "outputs": [],
   "source": [
    "# set some constants\n",
    "RANDOM_STATE=42\n",
    "TESTSIZE = 0.2\n",
    "VALSIZE = 0.2\n",
    "# number of features to select\n",
    "NUMFEATURES = 5\n",
    "# or a top percentile of features by importance to select\n",
    "PERCFEATURES = 20\n",
    "# name of the target columns\n",
    "TARGET = 'CONDITION'"
   ]
  },
  {
   "cell_type": "code",
   "execution_count": 188,
   "metadata": {},
   "outputs": [],
   "source": [
    "def load_datasets():\n",
    "    datasets = dict()\n",
    "    dataset_names = []\n",
    "    for filename in os.listdir('data'):\n",
    "        path = os.path.join('data', filename)\n",
    "        dname = filename.split('.')[0]\n",
    "        if dname == 'PHQ9_GAD7_df':\n",
    "            sep=';'\n",
    "        else:\n",
    "            sep=','\n",
    "        datasets[dname] = pd.read_csv(path, sep=sep)\n",
    "        dataset_names.append(dname)\n",
    "        print(f\"Loaded {filename} as {dname}\")\n",
    "    return datasets, dataset_names"
   ]
  },
  {
   "cell_type": "code",
   "execution_count": 189,
   "metadata": {},
   "outputs": [
    {
     "name": "stdout",
     "output_type": "stream",
     "text": [
      "Loaded IADQ_df.csv as IADQ_df\n",
      "Loaded PHQ9_GAD7_df.csv as PHQ9_GAD7_df\n",
      "Loaded PRMQ_df.csv as PRMQ_df\n",
      "Loaded RAW_DDDT.CSV as RAW_DDDT\n"
     ]
    }
   ],
   "source": [
    "datasets, dataset_names = load_datasets()"
   ]
  },
  {
   "cell_type": "code",
   "execution_count": 29,
   "metadata": {},
   "outputs": [],
   "source": [
    "# probably not used anymore but i spent too much time on this to delete it \n",
    "# also looks cool so idc\n",
    "\n",
    "from itertools import combinations\n",
    "\n",
    "def gen_interaction_combinations(\n",
    "    col_names: list[str],\n",
    "    max_order,\n",
    ") -> list[tuple[str]]:\n",
    "    \"\"\"\n",
    "    Generate all possible combinations of orders [1,...,max_order].\\n\n",
    "    Used to add interactions to the data.\n",
    "    \"\"\"\n",
    "    res = []\n",
    "    for order in range(1,max_order):\n",
    "        res.append(list(combinations(col_names, order + 1)))\n",
    "    return res\n",
    "\n",
    "def calc_interaction(\n",
    "    data: pd.DataFrame, \n",
    "    cols: list\n",
    ") -> pd.Series:\n",
    "    \"\"\" \n",
    "    Multiply specified columns of a dataframe.\\n\n",
    "    Returns a new series.\n",
    "    \"\"\"\n",
    "    res = pd.Series(data=np.ones(data.shape[0]))\n",
    "    for c in cols:\n",
    "        res *= data[c]\n",
    "    return res\n",
    "\n",
    "def add_interactions(\n",
    "    df: pd.DataFrame,\n",
    "    col_names: list[str],\n",
    "    max_order: int = 0\n",
    ") -> pd.DataFrame:\n",
    "    \"\"\"\n",
    "    Add all possible interactions between specified columns up to some order.\\n\n",
    "    \"\"\"\n",
    "    res = df.copy()\n",
    "\n",
    "    assert max_order >= 0\n",
    "    if max_order == 0:\n",
    "        max_order = len(col_names)\n",
    "        \n",
    "    if max_order == 1:\n",
    "        return res\n",
    "\n",
    "    all_ints = gen_interaction_combinations(col_names=col_names, max_order=max_order)\n",
    "    for ints_ord_i in all_ints:\n",
    "        for inter in ints_ord_i:\n",
    "            new_col = calc_interaction(df,inter)\n",
    "            res['.'.join(map(str,inter))] = new_col\n",
    "    return res"
   ]
  },
  {
   "cell_type": "markdown",
   "metadata": {},
   "source": [
    "Preprocessing"
   ]
  },
  {
   "cell_type": "code",
   "execution_count": 30,
   "metadata": {},
   "outputs": [],
   "source": [
    "def separate_target(data:np.ndarray, target_ind:int):\n",
    "    return data[:,:target_ind], data[:,target_ind]\n",
    "\n",
    "def check_split_integrity(\n",
    "    data: pd.DataFrame,\n",
    "    x_train: np.ndarray,\n",
    "    x_val: np.ndarray, \n",
    "    x_test: np.ndarray,\n",
    "    train_size: float = 1-VALSIZE-TESTSIZE, \n",
    "    val_size: float = VALSIZE, \n",
    "    test_size: float = TESTSIZE\n",
    "    ):\n",
    "    assert x_train.shape[1] == data.shape[1] - 1\n",
    "    assert x_val.shape[1] == data.shape[1] - 1\n",
    "    assert x_test.shape[1] == data.shape[1] - 1\n",
    "\n",
    "    assert x_train.shape[0] + x_val.shape[0] + x_test.shape[0] == data.shape[0]\n",
    "    assert abs(x_train.shape[0] - int(train_size*data.shape[0])) <= 1\n",
    "    assert abs(x_val.shape[0] - int(val_size*data.shape[0])) <= 1\n",
    "    assert abs(x_test.shape[0] - int(test_size*data.shape[0])) <= 1\n",
    "\n",
    "    return\n"
   ]
  },
  {
   "cell_type": "code",
   "execution_count": 31,
   "metadata": {},
   "outputs": [],
   "source": [
    "def preprocess(\n",
    "    data: pd.DataFrame, \n",
    "    target_column: str,\n",
    "    val_size: float=VALSIZE, \n",
    "    test_size: float=TESTSIZE, \n",
    "    random_state: float=RANDOM_STATE,\n",
    "    scale: bool=False,\n",
    "    center: bool=False\n",
    "):\n",
    "    \"\"\"\n",
    "    Function that combines all preprocessing steps.\\n\n",
    "    Returns the training, validation and test sets as numpy arrays.\\n\n",
    "    In our case, preserves column structure (doesn't necessarily in the general case though).\\n\n",
    "    \"\"\"\n",
    "    data_trainval, data_test = train_test_split(data, test_size=test_size,random_state=random_state, stratify=data[target_column])\n",
    "    data_train, data_val = train_test_split(data_trainval, test_size=val_size/(1-test_size),random_state=random_state, stratify=data_trainval[target_column])\n",
    "    predictors_pipeline = Pipeline(steps=[\n",
    "        ('scale_numerics', StandardScaler(with_mean=center, with_std=scale))\n",
    "    ])\n",
    "    target_pipeline = Pipeline(steps=[\n",
    "        ('encode_target', sklearn.preprocessing.OrdinalEncoder())\n",
    "    ])\n",
    "    preprocessor = ColumnTransformer([\n",
    "        ('predictors', predictors_pipeline, data.columns[data.columns != target_column]),\n",
    "        ('target', target_pipeline, [target_column])\n",
    "    ], remainder='passthrough')\n",
    "\n",
    "    data_train_pr = preprocessor.fit_transform(data_train)\n",
    "    data_val_pr = preprocessor.transform(data_val)\n",
    "    data_test_pr = preprocessor.transform(data_test)\n",
    "\n",
    "    # x_train = data_train_pr[:,:target_column_ind]\n",
    "    # y_train = data_train_pr[target_column_ind]\n",
    "    # x_val = data_val_pr[:,:target_column_ind]\n",
    "    # y_val = data_val_pr[target_column_ind]\n",
    "    # x_test = data_test_pr[:,:target_column_ind]\n",
    "    # y_test = data_test_pr[target_column_ind]\n",
    "    # feature_names = preprocessor.get_feature_names_out()\n",
    "    # data_train_pr = pd.DataFrame(data_train_pr, columns=feature_names)\n",
    "    # data_val_pr = pd.DataFrame(data_val_pr, columns=feature_names)\n",
    "    # data_test_pr = pd.DataFrame(data_test_pr, columns=feature_names)\n",
    "\n",
    "    return data_train_pr, data_val_pr, data_test_pr\n",
    "# X_train, y_train = separate_target(data_train_pr, target_col)\n",
    "# X_val, y_val = separate_target(data_val_pr, target_col)\n",
    "# X_test, y_test = separate_target(data_test_pr, target_col)\n"
   ]
  },
  {
   "cell_type": "code",
   "execution_count": 32,
   "metadata": {},
   "outputs": [],
   "source": [
    "def plot_feature_importances(X, y, feature_names_in, score_func=chi2):\n",
    "    selector = SelectPercentile(score_func=score_func, percentile=PERCFEATURES)\n",
    "    selector.fit(X, y)\n",
    "    ax = plt.figure().add_subplot()\n",
    "    ax.bar(feature_names_in, selector.scores_)\n",
    "    ax.set_title(f'Feature importance with {score_func.__name__}')\n",
    "    ax.set_ylabel('scores')\n",
    "    ax.set_xlabel('features')\n",
    "    ax.set_xticklabels(feature_names_in,rotation=45,ha='right')\n",
    "    \n",
    "    return ax\n",
    "\n",
    "def plot_top_features(X, y, k, feature_names_in, score_func):\n",
    "\n",
    "    assert np.shape(X)[0] == np.shape(y)[0]\n",
    "\n",
    "    selector = SelectKBest(score_func=score_func, k=k)\n",
    "    X_t = selector.fit_transform(X,y)\n",
    "    fnames = selector.get_feature_names_out(input_features=feature_names_in)\n",
    "    if k == 1:\n",
    "        ax = plt.figure().add_subplot(projection='1d')\n",
    "        ax.scatter(xs=X_t, c=['tab:orange' if cl == 1 else 'tab:blue' for cl in y],alpha=0.05)\n",
    "        ax.set_xlabel(fnames[0])\n",
    "    if k == 2:\n",
    "        ax = plt.figure().add_subplot()\n",
    "        # ax.hist2d(x=X_t[:,0],y=X_t[:,1],bins=np.arange(1,6))\n",
    "        ax.scatter(x=X_t[:,0],y=X_t[:,1], c=['tab:orange' if cl == 1 else 'tab:blue' for cl in y],alpha=0.05)\n",
    "        ax.set_xlabel(fnames[0])\n",
    "        ax.set_ylabel(fnames[1])\n",
    "    if k == 3:\n",
    "        ax = plt.figure().add_subplot(projection='3d')\n",
    "        ax.scatter(xs=X_t[:,0],ys=X_t[:,1],zs=X_t[:,2], c=['tab:orange' if cl == 1 else 'tab:blue' for cl in y],alpha=0.1)\n",
    "        ax.set_xlabel(fnames[0])\n",
    "        ax.set_ylabel(fnames[1])\n",
    "        ax.set_zlabel(fnames[2])\n",
    "        ax.view_init(elev=28, azim=-47)\n",
    "    \n",
    "    legend_props = [mpl.lines.Line2D([0],[0], marker='o',color='tab:orange'),\n",
    "                    mpl.lines.Line2D([0],[0], marker='o',color='tab:blue')]\n",
    "    ax.legend(legend_props, ['Honest','Dishonest'],bbox_to_anchor=(1,0.95))\n",
    "    return ax"
   ]
  },
  {
   "cell_type": "markdown",
   "metadata": {},
   "source": [
    "Custom importance functions"
   ]
  },
  {
   "cell_type": "code",
   "execution_count": 33,
   "metadata": {},
   "outputs": [],
   "source": [
    "def loglasso_coefs(X_train, y_train):\n",
    "    \"\"\"Importance function that uses Lasso logistic regression coefficients for each feature as scores.\\n\"\"\"\n",
    "    lasso = sklearn.linear_model.LogisticRegressionCV(\n",
    "        cv=5,\n",
    "        random_state=RANDOM_STATE, \n",
    "        penalty='l1', \n",
    "        solver='liblinear',\n",
    "        max_iter=1000\n",
    "    ).fit(X_train, y_train)\n",
    "    return np.abs(lasso.coef_[0])\n",
    "\n",
    "def rf_coefs(X_train, y_train):\n",
    "    pass"
   ]
  },
  {
   "cell_type": "code",
   "execution_count": 34,
   "metadata": {},
   "outputs": [],
   "source": [
    "def eval_on_models(\n",
    "    X_train, \n",
    "    y_train, \n",
    "    X_val, \n",
    "    y_val, \n",
    "    models: list,\n",
    "    model_names: list[str],\n",
    "    percentile=None,\n",
    "    num_features=None,\n",
    "    feature_names: list[str]=None,\n",
    "    feature_select_func: callable=chi2,\n",
    "):\n",
    "    reduced_scores = pd.Series(index=model_names)\n",
    "    if percentile is not None:\n",
    "        selector = SelectPercentile(score_func=feature_select_func, percentile=percentile)\n",
    "    elif num_features is not None:\n",
    "        selector = SelectKBest(score_func=feature_select_func, k=num_features)\n",
    "    else:\n",
    "        raise Exception('Number of features not specified')\n",
    "    selector.fit(X_train, y_train)\n",
    "    features = selector.get_feature_names_out(input_features=feature_names)\n",
    "    X_train_red = selector.transform(X_train)\n",
    "    X_val_red = selector.transform(X_val)\n",
    "    for (model,mname) in zip(models,model_names):\n",
    "        model_reduced = clone(model)\n",
    "        model_reduced.fit(X_train_red, y_train)\n",
    "        reduced_score = model_reduced.score(X_val_red, y_val)\n",
    "        reduced_scores.loc[mname] = reduced_score\n",
    "    return reduced_scores, features\n"
   ]
  },
  {
   "cell_type": "code",
   "execution_count": 35,
   "metadata": {},
   "outputs": [],
   "source": [
    "# score = eval_on_models(X_train, y_train, X_val, y_val, num_features=1, models=models, model_names=model_names, feature_names=rawdata.columns[:-1])\n",
    "# score"
   ]
  },
  {
   "cell_type": "code",
   "execution_count": 165,
   "metadata": {},
   "outputs": [],
   "source": [
    "def eval_subsets(\n",
    "    X_train, \n",
    "    y_train, \n",
    "    X_val, \n",
    "    y_val, \n",
    "    models: list,\n",
    "    model_names: list[str],\n",
    "    percentiles: list=[5, 10, 30, 50, 80, 100],\n",
    "    num_features = [3],\n",
    "    feature_select_func: callable=chi2\n",
    "):  \n",
    "    \"\"\"\n",
    "    Evaluate a range of models on a range of reduced features.\\n\n",
    "    Feature importances can be calculated with `feature_select_func`.\n",
    "    \"\"\"\n",
    "    # full_scores = []\n",
    "    reduced_scores = pd.DataFrame(columns=percentiles,index=model_names)\n",
    "    features = dict()\n",
    "    # for model in models:\n",
    "    #     #model_reduced_scores = pd.DataFrame(index=['Model', 'Percentile'])\n",
    "    #     model_full = clone(model)\n",
    "    #     model_full.fit(X_train, y_train)\n",
    "    #     full_score = model_full.score(X_val, y_val)\n",
    "    #     full_scores.append(full_score)\n",
    "    for (model,mname) in zip(models,model_names):\n",
    "        model_reduced = clone(model)\n",
    "        model_reduced_scores = dict()\n",
    "        for percentile in percentiles:\n",
    "            # reduce the set\n",
    "            selector = SelectPercentile(score_func=feature_select_func, percentile=percentile)\n",
    "            selector.fit(X_train, y_train)\n",
    "            features[percentile] = selector.get_support(indices=True)\n",
    "            X_train_red = selector.transform(X_train)\n",
    "            X_val_red = selector.transform(X_val)\n",
    "            model_reduced.fit(X_train_red, y_train)\n",
    "            reduced_score = model_reduced.score(X_val_red, y_val)\n",
    "            model_reduced_scores[percentile] = reduced_score\n",
    "        reduced_scores.loc[mname] = model_reduced_scores\n",
    "        #reduced_scores.append(model_reduced_scores)\n",
    "    return pd.DataFrame(reduced_scores), features\n"
   ]
  },
  {
   "cell_type": "code",
   "execution_count": 208,
   "metadata": {},
   "outputs": [],
   "source": [
    "def eval_for_each_dataset(\n",
    "    datasets,\n",
    "    models,\n",
    "    model_names,\n",
    "    percentiles = [5, 10, 30, 50, 80, 100],\n",
    "    num_features = 3,\n",
    "    feature_select_func=chi2\n",
    "):\n",
    "    \"\"\"\n",
    "    Wrapper function that applies `eval_subsets` to several datasets and gives the result in a neat dataframe.\n",
    "    \"\"\"\n",
    "\n",
    "    scores = pd.DataFrame(index=pd.MultiIndex.from_product([dataset_names, model_names]), columns=percentiles)\n",
    "    features = dict()\n",
    "    features_simp = dict()\n",
    "    for dname in datasets.keys():\n",
    "        dataset = datasets[dname]\n",
    "        train, val, test = preprocess(dataset, TARGET)\n",
    "        target_col_ind = dataset.columns.get_loc(TARGET)\n",
    "        X_train, y_train = separate_target(train,target_col_ind)\n",
    "        X_val, y_val = separate_target(val,target_col_ind)\n",
    "        X_test, _ = separate_target(test,target_col_ind)\n",
    "        check_split_integrity(dataset, X_train, X_val, X_test)\n",
    "        feature_names = dataset.columns[dataset.columns != TARGET]\n",
    "        feature_names = None\n",
    "        dataset_scores, dataset_features = eval_subsets(\n",
    "            X_train, y_train, X_val, y_val, models, model_names=model_names, percentiles=percentiles, feature_select_func=feature_select_func\n",
    "        )\n",
    "        scores.loc[dname] = np.array(dataset_scores)\n",
    "        features[dname] = dataset_features\n",
    "    return scores, pd.DataFrame(features)\n"
   ]
  },
  {
   "cell_type": "markdown",
   "metadata": {},
   "source": [
    "Exploration (PRMQ dataset)"
   ]
  },
  {
   "cell_type": "code",
   "execution_count": 193,
   "metadata": {},
   "outputs": [
    {
     "data": {
      "text/plain": [
       "dict_keys(['IADQ_df', 'PHQ9_GAD7_df', 'PRMQ_df', 'RAW_DDDT'])"
      ]
     },
     "execution_count": 193,
     "metadata": {},
     "output_type": "execute_result"
    }
   ],
   "source": [
    "datasets.keys()"
   ]
  },
  {
   "cell_type": "code",
   "execution_count": 194,
   "metadata": {},
   "outputs": [],
   "source": [
    "rawdata = datasets['PRMQ_df']\n",
    "if rawdata.isnull().values.any():\n",
    "    raise Exception('Null values in data')"
   ]
  },
  {
   "cell_type": "code",
   "execution_count": 195,
   "metadata": {},
   "outputs": [],
   "source": [
    "train, val, test = preprocess(rawdata, TARGET)\n",
    "\n",
    "target_column_ind = rawdata.columns.get_loc(TARGET)\n",
    "\n",
    "X_train, y_train = separate_target(train, target_column_ind)\n",
    "X_val, y_val = separate_target(val, target_column_ind)\n",
    "X_test, y_test = separate_target(test, target_column_ind)\n",
    "check_split_integrity(rawdata, X_train, X_val, X_test)"
   ]
  },
  {
   "cell_type": "code",
   "execution_count": 196,
   "metadata": {},
   "outputs": [],
   "source": [
    "df_train = pd.DataFrame(train, columns=rawdata.columns)"
   ]
  },
  {
   "cell_type": "code",
   "execution_count": 197,
   "metadata": {},
   "outputs": [],
   "source": [
    "honest = df_train[df_train[TARGET] == 1]\n",
    "dishonest = df_train[df_train[TARGET] == 0]"
   ]
  },
  {
   "cell_type": "code",
   "execution_count": 198,
   "metadata": {},
   "outputs": [
    {
     "data": {
      "text/html": [
       "<div>\n",
       "<style scoped>\n",
       "    .dataframe tbody tr th:only-of-type {\n",
       "        vertical-align: middle;\n",
       "    }\n",
       "\n",
       "    .dataframe tbody tr th {\n",
       "        vertical-align: top;\n",
       "    }\n",
       "\n",
       "    .dataframe thead th {\n",
       "        text-align: right;\n",
       "    }\n",
       "</style>\n",
       "<table border=\"1\" class=\"dataframe\">\n",
       "  <thead>\n",
       "    <tr style=\"text-align: right;\">\n",
       "      <th></th>\n",
       "      <th>H</th>\n",
       "      <th>D</th>\n",
       "    </tr>\n",
       "  </thead>\n",
       "  <tbody>\n",
       "    <tr>\n",
       "      <th>PRMQ_PR_SH_CU1</th>\n",
       "      <td>2.676960</td>\n",
       "      <td>4.038005</td>\n",
       "    </tr>\n",
       "    <tr>\n",
       "      <th>PRMQ_RE _LO_ENV2</th>\n",
       "      <td>1.722090</td>\n",
       "      <td>4.102138</td>\n",
       "    </tr>\n",
       "    <tr>\n",
       "      <th>PRMQ_PR_SH_ENV3</th>\n",
       "      <td>2.313539</td>\n",
       "      <td>4.040380</td>\n",
       "    </tr>\n",
       "    <tr>\n",
       "      <th>PRMQ_RE_SH_CU4</th>\n",
       "      <td>2.634204</td>\n",
       "      <td>4.097387</td>\n",
       "    </tr>\n",
       "    <tr>\n",
       "      <th>PRMQ_PR_LO_CU5</th>\n",
       "      <td>2.427553</td>\n",
       "      <td>4.111639</td>\n",
       "    </tr>\n",
       "    <tr>\n",
       "      <th>PRMQ_RE_SH_ENV6</th>\n",
       "      <td>2.028504</td>\n",
       "      <td>3.980998</td>\n",
       "    </tr>\n",
       "    <tr>\n",
       "      <th>PRMQ_PR_LO_ENV7</th>\n",
       "      <td>2.477435</td>\n",
       "      <td>4.000000</td>\n",
       "    </tr>\n",
       "    <tr>\n",
       "      <th>PRMQ_RE_LO_CU8</th>\n",
       "      <td>2.111639</td>\n",
       "      <td>4.118765</td>\n",
       "    </tr>\n",
       "    <tr>\n",
       "      <th>PRMQ_RE_LO_ENV9</th>\n",
       "      <td>2.750594</td>\n",
       "      <td>3.995249</td>\n",
       "    </tr>\n",
       "    <tr>\n",
       "      <th>PRMQ_PR_SH_ENV10</th>\n",
       "      <td>2.888361</td>\n",
       "      <td>3.966746</td>\n",
       "    </tr>\n",
       "    <tr>\n",
       "      <th>PRMQ _RE_SH_CU11</th>\n",
       "      <td>2.961995</td>\n",
       "      <td>3.971496</td>\n",
       "    </tr>\n",
       "    <tr>\n",
       "      <th>PRMQ_PR_LO_ENV12</th>\n",
       "      <td>2.517815</td>\n",
       "      <td>3.947743</td>\n",
       "    </tr>\n",
       "    <tr>\n",
       "      <th>PRMQ _RE_SH_ENV13</th>\n",
       "      <td>2.011876</td>\n",
       "      <td>3.990499</td>\n",
       "    </tr>\n",
       "    <tr>\n",
       "      <th>PRMQ _PR_LO_CU14</th>\n",
       "      <td>2.555819</td>\n",
       "      <td>3.931116</td>\n",
       "    </tr>\n",
       "    <tr>\n",
       "      <th>PRMQ_RE_LO_CU15</th>\n",
       "      <td>2.223278</td>\n",
       "      <td>4.059382</td>\n",
       "    </tr>\n",
       "    <tr>\n",
       "      <th>PRMQ_PR_SH_CU16</th>\n",
       "      <td>2.757720</td>\n",
       "      <td>4.028504</td>\n",
       "    </tr>\n",
       "    <tr>\n",
       "      <th>CONDITION</th>\n",
       "      <td>1.000000</td>\n",
       "      <td>0.000000</td>\n",
       "    </tr>\n",
       "  </tbody>\n",
       "</table>\n",
       "</div>"
      ],
      "text/plain": [
       "                          H         D\n",
       "PRMQ_PR_SH_CU1     2.676960  4.038005\n",
       "PRMQ_RE _LO_ENV2   1.722090  4.102138\n",
       " PRMQ_PR_SH_ENV3   2.313539  4.040380\n",
       "PRMQ_RE_SH_CU4     2.634204  4.097387\n",
       "PRMQ_PR_LO_CU5     2.427553  4.111639\n",
       "PRMQ_RE_SH_ENV6    2.028504  3.980998\n",
       "PRMQ_PR_LO_ENV7    2.477435  4.000000\n",
       "PRMQ_RE_LO_CU8     2.111639  4.118765\n",
       "PRMQ_RE_LO_ENV9    2.750594  3.995249\n",
       "PRMQ_PR_SH_ENV10   2.888361  3.966746\n",
       "PRMQ _RE_SH_CU11   2.961995  3.971496\n",
       "PRMQ_PR_LO_ENV12   2.517815  3.947743\n",
       "PRMQ _RE_SH_ENV13  2.011876  3.990499\n",
       "PRMQ _PR_LO_CU14   2.555819  3.931116\n",
       "PRMQ_RE_LO_CU15    2.223278  4.059382\n",
       "PRMQ_PR_SH_CU16    2.757720  4.028504\n",
       "CONDITION          1.000000  0.000000"
      ]
     },
     "execution_count": 198,
     "metadata": {},
     "output_type": "execute_result"
    }
   ],
   "source": [
    "mean_h = pd.Series(df_train[df_train[TARGET]==1].mean(),name='H')\n",
    "mean_d = pd.Series(df_train[df_train[TARGET]==0].mean(),name='D')\n",
    "means = pd.concat([mean_h,mean_d],axis=1)\n",
    "means"
   ]
  },
  {
   "cell_type": "code",
   "execution_count": 199,
   "metadata": {},
   "outputs": [
    {
     "data": {
      "text/html": [
       "<div>\n",
       "<style scoped>\n",
       "    .dataframe tbody tr th:only-of-type {\n",
       "        vertical-align: middle;\n",
       "    }\n",
       "\n",
       "    .dataframe tbody tr th {\n",
       "        vertical-align: top;\n",
       "    }\n",
       "\n",
       "    .dataframe thead th {\n",
       "        text-align: right;\n",
       "    }\n",
       "</style>\n",
       "<table border=\"1\" class=\"dataframe\">\n",
       "  <thead>\n",
       "    <tr style=\"text-align: right;\">\n",
       "      <th></th>\n",
       "      <th>H</th>\n",
       "      <th>D</th>\n",
       "    </tr>\n",
       "  </thead>\n",
       "  <tbody>\n",
       "    <tr>\n",
       "      <th>PRMQ_PR_SH_CU1</th>\n",
       "      <td>1.088978</td>\n",
       "      <td>1.351711</td>\n",
       "    </tr>\n",
       "    <tr>\n",
       "      <th>PRMQ_RE _LO_ENV2</th>\n",
       "      <td>0.976491</td>\n",
       "      <td>1.199810</td>\n",
       "    </tr>\n",
       "    <tr>\n",
       "      <th>PRMQ_PR_SH_ENV3</th>\n",
       "      <td>1.128223</td>\n",
       "      <td>1.282031</td>\n",
       "    </tr>\n",
       "    <tr>\n",
       "      <th>PRMQ_RE_SH_CU4</th>\n",
       "      <td>1.108052</td>\n",
       "      <td>1.331851</td>\n",
       "    </tr>\n",
       "    <tr>\n",
       "      <th>PRMQ_PR_LO_CU5</th>\n",
       "      <td>1.145426</td>\n",
       "      <td>1.398769</td>\n",
       "    </tr>\n",
       "    <tr>\n",
       "      <th>PRMQ_RE_SH_ENV6</th>\n",
       "      <td>1.186891</td>\n",
       "      <td>1.270403</td>\n",
       "    </tr>\n",
       "    <tr>\n",
       "      <th>PRMQ_PR_LO_ENV7</th>\n",
       "      <td>1.174162</td>\n",
       "      <td>1.339865</td>\n",
       "    </tr>\n",
       "    <tr>\n",
       "      <th>PRMQ_RE_LO_CU8</th>\n",
       "      <td>1.050797</td>\n",
       "      <td>1.307544</td>\n",
       "    </tr>\n",
       "    <tr>\n",
       "      <th>PRMQ_RE_LO_ENV9</th>\n",
       "      <td>1.155538</td>\n",
       "      <td>1.463842</td>\n",
       "    </tr>\n",
       "    <tr>\n",
       "      <th>PRMQ_PR_SH_ENV10</th>\n",
       "      <td>1.125202</td>\n",
       "      <td>1.395174</td>\n",
       "    </tr>\n",
       "    <tr>\n",
       "      <th>PRMQ _RE_SH_CU11</th>\n",
       "      <td>1.178570</td>\n",
       "      <td>1.461944</td>\n",
       "    </tr>\n",
       "    <tr>\n",
       "      <th>PRMQ_PR_LO_ENV12</th>\n",
       "      <td>0.986958</td>\n",
       "      <td>1.344168</td>\n",
       "    </tr>\n",
       "    <tr>\n",
       "      <th>PRMQ _RE_SH_ENV13</th>\n",
       "      <td>1.081160</td>\n",
       "      <td>1.272382</td>\n",
       "    </tr>\n",
       "    <tr>\n",
       "      <th>PRMQ _PR_LO_CU14</th>\n",
       "      <td>1.166944</td>\n",
       "      <td>1.370612</td>\n",
       "    </tr>\n",
       "    <tr>\n",
       "      <th>PRMQ_RE_LO_CU15</th>\n",
       "      <td>1.070171</td>\n",
       "      <td>1.299739</td>\n",
       "    </tr>\n",
       "    <tr>\n",
       "      <th>PRMQ_PR_SH_CU16</th>\n",
       "      <td>1.045725</td>\n",
       "      <td>1.344883</td>\n",
       "    </tr>\n",
       "    <tr>\n",
       "      <th>CONDITION</th>\n",
       "      <td>0.000000</td>\n",
       "      <td>0.000000</td>\n",
       "    </tr>\n",
       "  </tbody>\n",
       "</table>\n",
       "</div>"
      ],
      "text/plain": [
       "                          H         D\n",
       "PRMQ_PR_SH_CU1     1.088978  1.351711\n",
       "PRMQ_RE _LO_ENV2   0.976491  1.199810\n",
       " PRMQ_PR_SH_ENV3   1.128223  1.282031\n",
       "PRMQ_RE_SH_CU4     1.108052  1.331851\n",
       "PRMQ_PR_LO_CU5     1.145426  1.398769\n",
       "PRMQ_RE_SH_ENV6    1.186891  1.270403\n",
       "PRMQ_PR_LO_ENV7    1.174162  1.339865\n",
       "PRMQ_RE_LO_CU8     1.050797  1.307544\n",
       "PRMQ_RE_LO_ENV9    1.155538  1.463842\n",
       "PRMQ_PR_SH_ENV10   1.125202  1.395174\n",
       "PRMQ _RE_SH_CU11   1.178570  1.461944\n",
       "PRMQ_PR_LO_ENV12   0.986958  1.344168\n",
       "PRMQ _RE_SH_ENV13  1.081160  1.272382\n",
       "PRMQ _PR_LO_CU14   1.166944  1.370612\n",
       "PRMQ_RE_LO_CU15    1.070171  1.299739\n",
       "PRMQ_PR_SH_CU16    1.045725  1.344883\n",
       "CONDITION          0.000000  0.000000"
      ]
     },
     "execution_count": 199,
     "metadata": {},
     "output_type": "execute_result"
    }
   ],
   "source": [
    "std_h = pd.Series(df_train[df_train[TARGET]==1].std(),name='H')\n",
    "std_d = pd.Series(df_train[df_train[TARGET]==0].std(),name='D')\n",
    "stds = pd.concat([std_h,std_d],axis=1)\n",
    "stds"
   ]
  },
  {
   "cell_type": "code",
   "execution_count": 200,
   "metadata": {},
   "outputs": [],
   "source": [
    "# ax = plot_top_features(X_train, y_train, 3, rawdata.columns[:-1],score_func=loglasso_coef)\n",
    "# ax.set_title('Top-3 features for PRMQ by mutual information criterion')"
   ]
  },
  {
   "cell_type": "code",
   "execution_count": 201,
   "metadata": {},
   "outputs": [
    {
     "name": "stderr",
     "output_type": "stream",
     "text": [
      "C:\\Users\\xps\\AppData\\Local\\Temp/ipykernel_16676/3618988755.py:9: UserWarning: FixedFormatter should only be used together with FixedLocator\n",
      "  ax.set_xticklabels(feature_names_in,rotation=45,ha='right')\n"
     ]
    },
    {
     "data": {
      "image/png": "[encoded data removed]",
      "text/plain": [
       "<Figure size 432x288 with 1 Axes>"
      ]
     },
     "metadata": {
      "needs_background": "light"
     },
     "output_type": "display_data"
    }
   ],
   "source": [
    "ax = plot_feature_importances(X_train,y_train, feature_names_in=rawdata.columns[:-1], score_func=chi2)\n",
    "plt.show()"
   ]
  },
  {
   "cell_type": "code",
   "execution_count": 202,
   "metadata": {},
   "outputs": [
    {
     "name": "stderr",
     "output_type": "stream",
     "text": [
      "C:\\Users\\xps\\AppData\\Local\\Temp/ipykernel_16676/3618988755.py:9: UserWarning: FixedFormatter should only be used together with FixedLocator\n",
      "  ax.set_xticklabels(feature_names_in,rotation=45,ha='right')\n"
     ]
    },
    {
     "data": {
      "text/plain": [
       "<AxesSubplot:title={'center':'Feature importance with mutual_info_classif'}, xlabel='features', ylabel='scores'>"
      ]
     },
     "execution_count": 202,
     "metadata": {},
     "output_type": "execute_result"
    },
    {
     "data": {
      "image/png": "[encoded data removed]",
      "text/plain": [
       "<Figure size 432x288 with 1 Axes>"
      ]
     },
     "metadata": {
      "needs_background": "light"
     },
     "output_type": "display_data"
    }
   ],
   "source": [
    "plot_feature_importances(X_train,y_train,feature_names_in=rawdata.columns[:-1], score_func=mutual_info_classif)"
   ]
  },
  {
   "cell_type": "markdown",
   "metadata": {},
   "source": [
    "Feature selection experiments"
   ]
  },
  {
   "cell_type": "code",
   "execution_count": 203,
   "metadata": {},
   "outputs": [],
   "source": [
    "models = [\n",
    "    sklearn.svm.SVC(kernel='linear', random_state=RANDOM_STATE),\n",
    "    RandomForestClassifier(random_state=RANDOM_STATE)\n",
    "]\n",
    "model_names = [\n",
    "    'SVC',\n",
    "    'Random Forest'\n",
    "]\n",
    "percentiles = [5, 10, 30, 50, 80, 100]\n",
    "feature_funs = ['chi2', 'mi', 'lasso']"
   ]
  },
  {
   "cell_type": "markdown",
   "metadata": {},
   "source": [
    "Chi2 criterion"
   ]
  },
  {
   "cell_type": "code",
   "execution_count": 209,
   "metadata": {},
   "outputs": [
    {
     "data": {
      "text/html": [
       "<div>\n",
       "<style scoped>\n",
       "    .dataframe tbody tr th:only-of-type {\n",
       "        vertical-align: middle;\n",
       "    }\n",
       "\n",
       "    .dataframe tbody tr th {\n",
       "        vertical-align: top;\n",
       "    }\n",
       "\n",
       "    .dataframe thead th {\n",
       "        text-align: right;\n",
       "    }\n",
       "</style>\n",
       "<table border=\"1\" class=\"dataframe\">\n",
       "  <thead>\n",
       "    <tr style=\"text-align: right;\">\n",
       "      <th></th>\n",
       "      <th></th>\n",
       "      <th>5</th>\n",
       "      <th>10</th>\n",
       "      <th>30</th>\n",
       "      <th>50</th>\n",
       "      <th>80</th>\n",
       "      <th>100</th>\n",
       "    </tr>\n",
       "  </thead>\n",
       "  <tbody>\n",
       "    <tr>\n",
       "      <th rowspan=\"2\" valign=\"top\">IADQ_df</th>\n",
       "      <th>SVC</th>\n",
       "      <td>0.811111</td>\n",
       "      <td>0.811111</td>\n",
       "      <td>0.811111</td>\n",
       "      <td>0.777778</td>\n",
       "      <td>0.833333</td>\n",
       "      <td>0.833333</td>\n",
       "    </tr>\n",
       "    <tr>\n",
       "      <th>Random Forest</th>\n",
       "      <td>0.811111</td>\n",
       "      <td>0.811111</td>\n",
       "      <td>0.822222</td>\n",
       "      <td>0.811111</td>\n",
       "      <td>0.822222</td>\n",
       "      <td>0.833333</td>\n",
       "    </tr>\n",
       "    <tr>\n",
       "      <th rowspan=\"2\" valign=\"top\">PHQ9_GAD7_df</th>\n",
       "      <th>SVC</th>\n",
       "      <td>0.950893</td>\n",
       "      <td>0.982143</td>\n",
       "      <td>0.982143</td>\n",
       "      <td>0.991071</td>\n",
       "      <td>0.986607</td>\n",
       "      <td>0.986607</td>\n",
       "    </tr>\n",
       "    <tr>\n",
       "      <th>Random Forest</th>\n",
       "      <td>0.950893</td>\n",
       "      <td>0.982143</td>\n",
       "      <td>0.982143</td>\n",
       "      <td>0.991071</td>\n",
       "      <td>0.982143</td>\n",
       "      <td>0.986607</td>\n",
       "    </tr>\n",
       "    <tr>\n",
       "      <th rowspan=\"2\" valign=\"top\">PRMQ_df</th>\n",
       "      <th>SVC</th>\n",
       "      <td>0.829181</td>\n",
       "      <td>0.88968</td>\n",
       "      <td>0.875445</td>\n",
       "      <td>0.879004</td>\n",
       "      <td>0.875445</td>\n",
       "      <td>0.900356</td>\n",
       "    </tr>\n",
       "    <tr>\n",
       "      <th>Random Forest</th>\n",
       "      <td>0.829181</td>\n",
       "      <td>0.886121</td>\n",
       "      <td>0.882562</td>\n",
       "      <td>0.907473</td>\n",
       "      <td>0.928826</td>\n",
       "      <td>0.921708</td>\n",
       "    </tr>\n",
       "    <tr>\n",
       "      <th rowspan=\"2\" valign=\"top\">RAW_DDDT</th>\n",
       "      <th>SVC</th>\n",
       "      <td>0.690355</td>\n",
       "      <td>0.746193</td>\n",
       "      <td>0.746193</td>\n",
       "      <td>0.736041</td>\n",
       "      <td>0.741117</td>\n",
       "      <td>0.751269</td>\n",
       "    </tr>\n",
       "    <tr>\n",
       "      <th>Random Forest</th>\n",
       "      <td>0.690355</td>\n",
       "      <td>0.730964</td>\n",
       "      <td>0.695431</td>\n",
       "      <td>0.690355</td>\n",
       "      <td>0.766497</td>\n",
       "      <td>0.766497</td>\n",
       "    </tr>\n",
       "  </tbody>\n",
       "</table>\n",
       "</div>"
      ],
      "text/plain": [
       "                                 5         10        30        50        80   \\\n",
       "IADQ_df      SVC            0.811111  0.811111  0.811111  0.777778  0.833333   \n",
       "             Random Forest  0.811111  0.811111  0.822222  0.811111  0.822222   \n",
       "PHQ9_GAD7_df SVC            0.950893  0.982143  0.982143  0.991071  0.986607   \n",
       "             Random Forest  0.950893  0.982143  0.982143  0.991071  0.982143   \n",
       "PRMQ_df      SVC            0.829181   0.88968  0.875445  0.879004  0.875445   \n",
       "             Random Forest  0.829181  0.886121  0.882562  0.907473  0.928826   \n",
       "RAW_DDDT     SVC            0.690355  0.746193  0.746193  0.736041  0.741117   \n",
       "             Random Forest  0.690355  0.730964  0.695431  0.690355  0.766497   \n",
       "\n",
       "                                 100  \n",
       "IADQ_df      SVC            0.833333  \n",
       "             Random Forest  0.833333  \n",
       "PHQ9_GAD7_df SVC            0.986607  \n",
       "             Random Forest  0.986607  \n",
       "PRMQ_df      SVC            0.900356  \n",
       "             Random Forest  0.921708  \n",
       "RAW_DDDT     SVC            0.751269  \n",
       "             Random Forest  0.766497  "
      ]
     },
     "execution_count": 209,
     "metadata": {},
     "output_type": "execute_result"
    }
   ],
   "source": [
    "scores_chi2, features_chi2 = eval_for_each_dataset(\n",
    "    datasets, models, model_names, percentiles,feature_select_func=chi2)\n",
    "scores_chi2"
   ]
  },
  {
   "cell_type": "code",
   "execution_count": null,
   "metadata": {},
   "outputs": [
    {
     "data": {
      "text/html": [
       "<div>\n",
       "<style scoped>\n",
       "    .dataframe tbody tr th:only-of-type {\n",
       "        vertical-align: middle;\n",
       "    }\n",
       "\n",
       "    .dataframe tbody tr th {\n",
       "        vertical-align: top;\n",
       "    }\n",
       "\n",
       "    .dataframe thead th {\n",
       "        text-align: right;\n",
       "    }\n",
       "</style>\n",
       "<table border=\"1\" class=\"dataframe\">\n",
       "  <thead>\n",
       "    <tr style=\"text-align: right;\">\n",
       "      <th></th>\n",
       "      <th></th>\n",
       "      <th>5</th>\n",
       "      <th>10</th>\n",
       "      <th>30</th>\n",
       "      <th>50</th>\n",
       "      <th>80</th>\n",
       "      <th>100</th>\n",
       "    </tr>\n",
       "  </thead>\n",
       "  <tbody>\n",
       "    <tr>\n",
       "      <th rowspan=\"2\" valign=\"top\">IADQ_df</th>\n",
       "      <th>SVC</th>\n",
       "      <td>-0.022222</td>\n",
       "      <td>-0.022222</td>\n",
       "      <td>-0.022222</td>\n",
       "      <td>-0.055556</td>\n",
       "      <td>0.0</td>\n",
       "      <td>0.0</td>\n",
       "    </tr>\n",
       "    <tr>\n",
       "      <th>Random Forest</th>\n",
       "      <td>-0.022222</td>\n",
       "      <td>-0.022222</td>\n",
       "      <td>-0.011111</td>\n",
       "      <td>-0.022222</td>\n",
       "      <td>-0.011111</td>\n",
       "      <td>0.0</td>\n",
       "    </tr>\n",
       "    <tr>\n",
       "      <th rowspan=\"2\" valign=\"top\">PHQ9_GAD7_df</th>\n",
       "      <th>SVC</th>\n",
       "      <td>-0.035714</td>\n",
       "      <td>-0.004464</td>\n",
       "      <td>-0.004464</td>\n",
       "      <td>0.004464</td>\n",
       "      <td>0.0</td>\n",
       "      <td>0.0</td>\n",
       "    </tr>\n",
       "    <tr>\n",
       "      <th>Random Forest</th>\n",
       "      <td>-0.035714</td>\n",
       "      <td>-0.004464</td>\n",
       "      <td>-0.004464</td>\n",
       "      <td>0.004464</td>\n",
       "      <td>-0.004464</td>\n",
       "      <td>0.0</td>\n",
       "    </tr>\n",
       "    <tr>\n",
       "      <th rowspan=\"2\" valign=\"top\">PRMQ_df</th>\n",
       "      <th>SVC</th>\n",
       "      <td>-0.071174</td>\n",
       "      <td>-0.010676</td>\n",
       "      <td>-0.024911</td>\n",
       "      <td>-0.021352</td>\n",
       "      <td>-0.024911</td>\n",
       "      <td>0.0</td>\n",
       "    </tr>\n",
       "    <tr>\n",
       "      <th>Random Forest</th>\n",
       "      <td>-0.092527</td>\n",
       "      <td>-0.035587</td>\n",
       "      <td>-0.039146</td>\n",
       "      <td>-0.014235</td>\n",
       "      <td>0.007117</td>\n",
       "      <td>0.0</td>\n",
       "    </tr>\n",
       "    <tr>\n",
       "      <th rowspan=\"2\" valign=\"top\">RAW_DDDT</th>\n",
       "      <th>SVC</th>\n",
       "      <td>-0.060914</td>\n",
       "      <td>-0.005076</td>\n",
       "      <td>-0.005076</td>\n",
       "      <td>-0.015228</td>\n",
       "      <td>-0.010152</td>\n",
       "      <td>0.0</td>\n",
       "    </tr>\n",
       "    <tr>\n",
       "      <th>Random Forest</th>\n",
       "      <td>-0.076142</td>\n",
       "      <td>-0.035533</td>\n",
       "      <td>-0.071066</td>\n",
       "      <td>-0.076142</td>\n",
       "      <td>0.0</td>\n",
       "      <td>0.0</td>\n",
       "    </tr>\n",
       "  </tbody>\n",
       "</table>\n",
       "</div>"
      ],
      "text/plain": [
       "                                 5         10        30        50        80   \\\n",
       "IADQ_df      SVC           -0.022222 -0.022222 -0.022222 -0.055556       0.0   \n",
       "             Random Forest -0.022222 -0.022222 -0.011111 -0.022222 -0.011111   \n",
       "PHQ9_GAD7_df SVC           -0.035714 -0.004464 -0.004464  0.004464       0.0   \n",
       "             Random Forest -0.035714 -0.004464 -0.004464  0.004464 -0.004464   \n",
       "PRMQ_df      SVC           -0.071174 -0.010676 -0.024911 -0.021352 -0.024911   \n",
       "             Random Forest -0.092527 -0.035587 -0.039146 -0.014235  0.007117   \n",
       "RAW_DDDT     SVC           -0.060914 -0.005076 -0.005076 -0.015228 -0.010152   \n",
       "             Random Forest -0.076142 -0.035533 -0.071066 -0.076142       0.0   \n",
       "\n",
       "                            100  \n",
       "IADQ_df      SVC            0.0  \n",
       "             Random Forest  0.0  \n",
       "PHQ9_GAD7_df SVC            0.0  \n",
       "             Random Forest  0.0  \n",
       "PRMQ_df      SVC            0.0  \n",
       "             Random Forest  0.0  \n",
       "RAW_DDDT     SVC            0.0  \n",
       "             Random Forest  0.0  "
      ]
     },
     "execution_count": 170,
     "metadata": {},
     "output_type": "execute_result"
    }
   ],
   "source": [
    "scores_chi2_diff = scores_chi2.subtract(scores_chi2[100],axis='index')\n",
    "scores_chi2_diff"
   ]
  },
  {
   "cell_type": "code",
   "execution_count": 210,
   "metadata": {},
   "outputs": [
    {
     "data": {
      "text/html": [
       "<div>\n",
       "<style scoped>\n",
       "    .dataframe tbody tr th:only-of-type {\n",
       "        vertical-align: middle;\n",
       "    }\n",
       "\n",
       "    .dataframe tbody tr th {\n",
       "        vertical-align: top;\n",
       "    }\n",
       "\n",
       "    .dataframe thead th {\n",
       "        text-align: right;\n",
       "    }\n",
       "</style>\n",
       "<table border=\"1\" class=\"dataframe\">\n",
       "  <thead>\n",
       "    <tr style=\"text-align: right;\">\n",
       "      <th></th>\n",
       "      <th></th>\n",
       "      <th>5</th>\n",
       "      <th>10</th>\n",
       "      <th>30</th>\n",
       "      <th>50</th>\n",
       "      <th>80</th>\n",
       "      <th>100</th>\n",
       "    </tr>\n",
       "  </thead>\n",
       "  <tbody>\n",
       "    <tr>\n",
       "      <th rowspan=\"2\" valign=\"top\">IADQ_df</th>\n",
       "      <th>SVC</th>\n",
       "      <td>0.788889</td>\n",
       "      <td>0.811111</td>\n",
       "      <td>0.8</td>\n",
       "      <td>0.8</td>\n",
       "      <td>0.822222</td>\n",
       "      <td>0.833333</td>\n",
       "    </tr>\n",
       "    <tr>\n",
       "      <th>Random Forest</th>\n",
       "      <td>0.788889</td>\n",
       "      <td>0.722222</td>\n",
       "      <td>0.811111</td>\n",
       "      <td>0.811111</td>\n",
       "      <td>0.822222</td>\n",
       "      <td>0.833333</td>\n",
       "    </tr>\n",
       "    <tr>\n",
       "      <th rowspan=\"2\" valign=\"top\">PHQ9_GAD7_df</th>\n",
       "      <th>SVC</th>\n",
       "      <td>0.950893</td>\n",
       "      <td>0.982143</td>\n",
       "      <td>0.991071</td>\n",
       "      <td>0.982143</td>\n",
       "      <td>0.986607</td>\n",
       "      <td>0.986607</td>\n",
       "    </tr>\n",
       "    <tr>\n",
       "      <th>Random Forest</th>\n",
       "      <td>0.950893</td>\n",
       "      <td>0.982143</td>\n",
       "      <td>0.982143</td>\n",
       "      <td>0.982143</td>\n",
       "      <td>0.977679</td>\n",
       "      <td>0.986607</td>\n",
       "    </tr>\n",
       "    <tr>\n",
       "      <th rowspan=\"2\" valign=\"top\">PRMQ_df</th>\n",
       "      <th>SVC</th>\n",
       "      <td>0.829181</td>\n",
       "      <td>0.882562</td>\n",
       "      <td>0.886121</td>\n",
       "      <td>0.88968</td>\n",
       "      <td>0.879004</td>\n",
       "      <td>0.900356</td>\n",
       "    </tr>\n",
       "    <tr>\n",
       "      <th>Random Forest</th>\n",
       "      <td>0.829181</td>\n",
       "      <td>0.879004</td>\n",
       "      <td>0.879004</td>\n",
       "      <td>0.903915</td>\n",
       "      <td>0.925267</td>\n",
       "      <td>0.921708</td>\n",
       "    </tr>\n",
       "    <tr>\n",
       "      <th rowspan=\"2\" valign=\"top\">RAW_DDDT</th>\n",
       "      <th>SVC</th>\n",
       "      <td>0.670051</td>\n",
       "      <td>0.746193</td>\n",
       "      <td>0.761421</td>\n",
       "      <td>0.751269</td>\n",
       "      <td>0.741117</td>\n",
       "      <td>0.751269</td>\n",
       "    </tr>\n",
       "    <tr>\n",
       "      <th>Random Forest</th>\n",
       "      <td>0.680203</td>\n",
       "      <td>0.730964</td>\n",
       "      <td>0.720812</td>\n",
       "      <td>0.71066</td>\n",
       "      <td>0.751269</td>\n",
       "      <td>0.766497</td>\n",
       "    </tr>\n",
       "  </tbody>\n",
       "</table>\n",
       "</div>"
      ],
      "text/plain": [
       "                                 5         10        30        50        80   \\\n",
       "IADQ_df      SVC            0.788889  0.811111       0.8       0.8  0.822222   \n",
       "             Random Forest  0.788889  0.722222  0.811111  0.811111  0.822222   \n",
       "PHQ9_GAD7_df SVC            0.950893  0.982143  0.991071  0.982143  0.986607   \n",
       "             Random Forest  0.950893  0.982143  0.982143  0.982143  0.977679   \n",
       "PRMQ_df      SVC            0.829181  0.882562  0.886121   0.88968  0.879004   \n",
       "             Random Forest  0.829181  0.879004  0.879004  0.903915  0.925267   \n",
       "RAW_DDDT     SVC            0.670051  0.746193  0.761421  0.751269  0.741117   \n",
       "             Random Forest  0.680203  0.730964  0.720812   0.71066  0.751269   \n",
       "\n",
       "                                 100  \n",
       "IADQ_df      SVC            0.833333  \n",
       "             Random Forest  0.833333  \n",
       "PHQ9_GAD7_df SVC            0.986607  \n",
       "             Random Forest  0.986607  \n",
       "PRMQ_df      SVC            0.900356  \n",
       "             Random Forest  0.921708  \n",
       "RAW_DDDT     SVC            0.751269  \n",
       "             Random Forest  0.766497  "
      ]
     },
     "execution_count": 210,
     "metadata": {},
     "output_type": "execute_result"
    }
   ],
   "source": [
    "scores_mi, features_mi = eval_for_each_dataset(\n",
    "    datasets, models, model_names, percentiles,feature_select_func=mutual_info_classif)\n",
    "scores_mi"
   ]
  },
  {
   "cell_type": "code",
   "execution_count": null,
   "metadata": {},
   "outputs": [
    {
     "data": {
      "text/html": [
       "<div>\n",
       "<style scoped>\n",
       "    .dataframe tbody tr th:only-of-type {\n",
       "        vertical-align: middle;\n",
       "    }\n",
       "\n",
       "    .dataframe tbody tr th {\n",
       "        vertical-align: top;\n",
       "    }\n",
       "\n",
       "    .dataframe thead th {\n",
       "        text-align: right;\n",
       "    }\n",
       "</style>\n",
       "<table border=\"1\" class=\"dataframe\">\n",
       "  <thead>\n",
       "    <tr style=\"text-align: right;\">\n",
       "      <th></th>\n",
       "      <th></th>\n",
       "      <th>5</th>\n",
       "      <th>10</th>\n",
       "      <th>30</th>\n",
       "      <th>50</th>\n",
       "      <th>80</th>\n",
       "      <th>100</th>\n",
       "    </tr>\n",
       "  </thead>\n",
       "  <tbody>\n",
       "    <tr>\n",
       "      <th rowspan=\"2\" valign=\"top\">IADQ_df</th>\n",
       "      <th>SVC</th>\n",
       "      <td>-0.022222</td>\n",
       "      <td>-0.022222</td>\n",
       "      <td>-0.055556</td>\n",
       "      <td>-0.011111</td>\n",
       "      <td>0.0</td>\n",
       "      <td>0.0</td>\n",
       "    </tr>\n",
       "    <tr>\n",
       "      <th>Random Forest</th>\n",
       "      <td>-0.044444</td>\n",
       "      <td>-0.111111</td>\n",
       "      <td>-0.011111</td>\n",
       "      <td>-0.022222</td>\n",
       "      <td>-0.022222</td>\n",
       "      <td>0.0</td>\n",
       "    </tr>\n",
       "    <tr>\n",
       "      <th rowspan=\"2\" valign=\"top\">PHQ9_GAD7_df</th>\n",
       "      <th>SVC</th>\n",
       "      <td>-0.035714</td>\n",
       "      <td>-0.004464</td>\n",
       "      <td>-0.004464</td>\n",
       "      <td>-0.004464</td>\n",
       "      <td>0.0</td>\n",
       "      <td>0.0</td>\n",
       "    </tr>\n",
       "    <tr>\n",
       "      <th>Random Forest</th>\n",
       "      <td>-0.035714</td>\n",
       "      <td>-0.004464</td>\n",
       "      <td>-0.004464</td>\n",
       "      <td>0.0</td>\n",
       "      <td>-0.008929</td>\n",
       "      <td>0.0</td>\n",
       "    </tr>\n",
       "    <tr>\n",
       "      <th rowspan=\"2\" valign=\"top\">PRMQ_df</th>\n",
       "      <th>SVC</th>\n",
       "      <td>-0.071174</td>\n",
       "      <td>-0.024911</td>\n",
       "      <td>0.0</td>\n",
       "      <td>0.007117</td>\n",
       "      <td>-0.024911</td>\n",
       "      <td>0.0</td>\n",
       "    </tr>\n",
       "    <tr>\n",
       "      <th>Random Forest</th>\n",
       "      <td>-0.092527</td>\n",
       "      <td>-0.042705</td>\n",
       "      <td>-0.039146</td>\n",
       "      <td>-0.007117</td>\n",
       "      <td>0.0</td>\n",
       "      <td>0.0</td>\n",
       "    </tr>\n",
       "    <tr>\n",
       "      <th rowspan=\"2\" valign=\"top\">RAW_DDDT</th>\n",
       "      <th>SVC</th>\n",
       "      <td>-0.071066</td>\n",
       "      <td>-0.005076</td>\n",
       "      <td>-0.010152</td>\n",
       "      <td>-0.015228</td>\n",
       "      <td>0.0</td>\n",
       "      <td>0.0</td>\n",
       "    </tr>\n",
       "    <tr>\n",
       "      <th>Random Forest</th>\n",
       "      <td>-0.086294</td>\n",
       "      <td>-0.035533</td>\n",
       "      <td>-0.086294</td>\n",
       "      <td>-0.06599</td>\n",
       "      <td>-0.010152</td>\n",
       "      <td>0.0</td>\n",
       "    </tr>\n",
       "  </tbody>\n",
       "</table>\n",
       "</div>"
      ],
      "text/plain": [
       "                                 5         10        30        50        80   \\\n",
       "IADQ_df      SVC           -0.022222 -0.022222 -0.055556 -0.011111       0.0   \n",
       "             Random Forest -0.044444 -0.111111 -0.011111 -0.022222 -0.022222   \n",
       "PHQ9_GAD7_df SVC           -0.035714 -0.004464 -0.004464 -0.004464       0.0   \n",
       "             Random Forest -0.035714 -0.004464 -0.004464       0.0 -0.008929   \n",
       "PRMQ_df      SVC           -0.071174 -0.024911       0.0  0.007117 -0.024911   \n",
       "             Random Forest -0.092527 -0.042705 -0.039146 -0.007117       0.0   \n",
       "RAW_DDDT     SVC           -0.071066 -0.005076 -0.010152 -0.015228       0.0   \n",
       "             Random Forest -0.086294 -0.035533 -0.086294  -0.06599 -0.010152   \n",
       "\n",
       "                            100  \n",
       "IADQ_df      SVC            0.0  \n",
       "             Random Forest  0.0  \n",
       "PHQ9_GAD7_df SVC            0.0  \n",
       "             Random Forest  0.0  \n",
       "PRMQ_df      SVC            0.0  \n",
       "             Random Forest  0.0  \n",
       "RAW_DDDT     SVC            0.0  \n",
       "             Random Forest  0.0  "
      ]
     },
     "execution_count": 172,
     "metadata": {},
     "output_type": "execute_result"
    }
   ],
   "source": [
    "scores_mi_diff = scores_mi.subtract(scores_mi[100],axis='index')\n",
    "scores_mi_diff"
   ]
  },
  {
   "cell_type": "markdown",
   "metadata": {},
   "source": [
    "Lasso feature importance/selection"
   ]
  },
  {
   "cell_type": "code",
   "execution_count": 211,
   "metadata": {},
   "outputs": [
    {
     "data": {
      "text/html": [
       "<div>\n",
       "<style scoped>\n",
       "    .dataframe tbody tr th:only-of-type {\n",
       "        vertical-align: middle;\n",
       "    }\n",
       "\n",
       "    .dataframe tbody tr th {\n",
       "        vertical-align: top;\n",
       "    }\n",
       "\n",
       "    .dataframe thead th {\n",
       "        text-align: right;\n",
       "    }\n",
       "</style>\n",
       "<table border=\"1\" class=\"dataframe\">\n",
       "  <thead>\n",
       "    <tr style=\"text-align: right;\">\n",
       "      <th></th>\n",
       "      <th></th>\n",
       "      <th>5</th>\n",
       "      <th>10</th>\n",
       "      <th>30</th>\n",
       "      <th>50</th>\n",
       "      <th>80</th>\n",
       "      <th>100</th>\n",
       "    </tr>\n",
       "  </thead>\n",
       "  <tbody>\n",
       "    <tr>\n",
       "      <th rowspan=\"2\" valign=\"top\">IADQ_df</th>\n",
       "      <th>SVC</th>\n",
       "      <td>0.722222</td>\n",
       "      <td>0.722222</td>\n",
       "      <td>0.777778</td>\n",
       "      <td>0.822222</td>\n",
       "      <td>0.822222</td>\n",
       "      <td>0.833333</td>\n",
       "    </tr>\n",
       "    <tr>\n",
       "      <th>Random Forest</th>\n",
       "      <td>0.722222</td>\n",
       "      <td>0.722222</td>\n",
       "      <td>0.822222</td>\n",
       "      <td>0.811111</td>\n",
       "      <td>0.788889</td>\n",
       "      <td>0.833333</td>\n",
       "    </tr>\n",
       "    <tr>\n",
       "      <th rowspan=\"2\" valign=\"top\">PHQ9_GAD7_df</th>\n",
       "      <th>SVC</th>\n",
       "      <td>0.950893</td>\n",
       "      <td>0.982143</td>\n",
       "      <td>0.982143</td>\n",
       "      <td>0.982143</td>\n",
       "      <td>0.982143</td>\n",
       "      <td>0.986607</td>\n",
       "    </tr>\n",
       "    <tr>\n",
       "      <th>Random Forest</th>\n",
       "      <td>0.950893</td>\n",
       "      <td>0.982143</td>\n",
       "      <td>0.977679</td>\n",
       "      <td>0.982143</td>\n",
       "      <td>0.991071</td>\n",
       "      <td>0.986607</td>\n",
       "    </tr>\n",
       "    <tr>\n",
       "      <th rowspan=\"2\" valign=\"top\">PRMQ_df</th>\n",
       "      <th>SVC</th>\n",
       "      <td>0.829181</td>\n",
       "      <td>0.857651</td>\n",
       "      <td>0.88968</td>\n",
       "      <td>0.900356</td>\n",
       "      <td>0.896797</td>\n",
       "      <td>0.900356</td>\n",
       "    </tr>\n",
       "    <tr>\n",
       "      <th>Random Forest</th>\n",
       "      <td>0.829181</td>\n",
       "      <td>0.836299</td>\n",
       "      <td>0.882562</td>\n",
       "      <td>0.914591</td>\n",
       "      <td>0.921708</td>\n",
       "      <td>0.921708</td>\n",
       "    </tr>\n",
       "    <tr>\n",
       "      <th rowspan=\"2\" valign=\"top\">RAW_DDDT</th>\n",
       "      <th>SVC</th>\n",
       "      <td>0.680203</td>\n",
       "      <td>0.720812</td>\n",
       "      <td>0.761421</td>\n",
       "      <td>0.741117</td>\n",
       "      <td>0.756345</td>\n",
       "      <td>0.751269</td>\n",
       "    </tr>\n",
       "    <tr>\n",
       "      <th>Random Forest</th>\n",
       "      <td>0.680203</td>\n",
       "      <td>0.746193</td>\n",
       "      <td>0.730964</td>\n",
       "      <td>0.736041</td>\n",
       "      <td>0.766497</td>\n",
       "      <td>0.766497</td>\n",
       "    </tr>\n",
       "  </tbody>\n",
       "</table>\n",
       "</div>"
      ],
      "text/plain": [
       "                                 5         10        30        50        80   \\\n",
       "IADQ_df      SVC            0.722222  0.722222  0.777778  0.822222  0.822222   \n",
       "             Random Forest  0.722222  0.722222  0.822222  0.811111  0.788889   \n",
       "PHQ9_GAD7_df SVC            0.950893  0.982143  0.982143  0.982143  0.982143   \n",
       "             Random Forest  0.950893  0.982143  0.977679  0.982143  0.991071   \n",
       "PRMQ_df      SVC            0.829181  0.857651   0.88968  0.900356  0.896797   \n",
       "             Random Forest  0.829181  0.836299  0.882562  0.914591  0.921708   \n",
       "RAW_DDDT     SVC            0.680203  0.720812  0.761421  0.741117  0.756345   \n",
       "             Random Forest  0.680203  0.746193  0.730964  0.736041  0.766497   \n",
       "\n",
       "                                 100  \n",
       "IADQ_df      SVC            0.833333  \n",
       "             Random Forest  0.833333  \n",
       "PHQ9_GAD7_df SVC            0.986607  \n",
       "             Random Forest  0.986607  \n",
       "PRMQ_df      SVC            0.900356  \n",
       "             Random Forest  0.921708  \n",
       "RAW_DDDT     SVC            0.751269  \n",
       "             Random Forest  0.766497  "
      ]
     },
     "execution_count": 211,
     "metadata": {},
     "output_type": "execute_result"
    }
   ],
   "source": [
    "scores_lasso, features_lasso = eval_for_each_dataset(\n",
    "    datasets, models, model_names, percentiles,feature_select_func=loglasso_coefs)\n",
    "scores_lasso"
   ]
  },
  {
   "cell_type": "code",
   "execution_count": null,
   "metadata": {},
   "outputs": [
    {
     "data": {
      "text/html": [
       "<div>\n",
       "<style scoped>\n",
       "    .dataframe tbody tr th:only-of-type {\n",
       "        vertical-align: middle;\n",
       "    }\n",
       "\n",
       "    .dataframe tbody tr th {\n",
       "        vertical-align: top;\n",
       "    }\n",
       "\n",
       "    .dataframe thead th {\n",
       "        text-align: right;\n",
       "    }\n",
       "</style>\n",
       "<table border=\"1\" class=\"dataframe\">\n",
       "  <thead>\n",
       "    <tr style=\"text-align: right;\">\n",
       "      <th></th>\n",
       "      <th></th>\n",
       "      <th>5</th>\n",
       "      <th>10</th>\n",
       "      <th>30</th>\n",
       "      <th>50</th>\n",
       "      <th>80</th>\n",
       "      <th>100</th>\n",
       "    </tr>\n",
       "  </thead>\n",
       "  <tbody>\n",
       "    <tr>\n",
       "      <th rowspan=\"2\" valign=\"top\">IADQ_df</th>\n",
       "      <th>SVC</th>\n",
       "      <td>-0.111111</td>\n",
       "      <td>-0.111111</td>\n",
       "      <td>-0.055556</td>\n",
       "      <td>-0.011111</td>\n",
       "      <td>-0.011111</td>\n",
       "      <td>0.0</td>\n",
       "    </tr>\n",
       "    <tr>\n",
       "      <th>Random Forest</th>\n",
       "      <td>-0.111111</td>\n",
       "      <td>-0.111111</td>\n",
       "      <td>-0.011111</td>\n",
       "      <td>-0.022222</td>\n",
       "      <td>-0.044444</td>\n",
       "      <td>0.0</td>\n",
       "    </tr>\n",
       "    <tr>\n",
       "      <th rowspan=\"2\" valign=\"top\">PHQ9_GAD7_df</th>\n",
       "      <th>SVC</th>\n",
       "      <td>-0.035714</td>\n",
       "      <td>-0.004464</td>\n",
       "      <td>-0.004464</td>\n",
       "      <td>-0.004464</td>\n",
       "      <td>-0.004464</td>\n",
       "      <td>0.0</td>\n",
       "    </tr>\n",
       "    <tr>\n",
       "      <th>Random Forest</th>\n",
       "      <td>-0.035714</td>\n",
       "      <td>-0.004464</td>\n",
       "      <td>-0.008929</td>\n",
       "      <td>-0.004464</td>\n",
       "      <td>0.004464</td>\n",
       "      <td>0.0</td>\n",
       "    </tr>\n",
       "    <tr>\n",
       "      <th rowspan=\"2\" valign=\"top\">PRMQ_df</th>\n",
       "      <th>SVC</th>\n",
       "      <td>-0.071174</td>\n",
       "      <td>-0.042705</td>\n",
       "      <td>-0.010676</td>\n",
       "      <td>0.0</td>\n",
       "      <td>-0.003559</td>\n",
       "      <td>0.0</td>\n",
       "    </tr>\n",
       "    <tr>\n",
       "      <th>Random Forest</th>\n",
       "      <td>-0.092527</td>\n",
       "      <td>-0.085409</td>\n",
       "      <td>-0.039146</td>\n",
       "      <td>-0.007117</td>\n",
       "      <td>0.0</td>\n",
       "      <td>0.0</td>\n",
       "    </tr>\n",
       "    <tr>\n",
       "      <th rowspan=\"2\" valign=\"top\">RAW_DDDT</th>\n",
       "      <th>SVC</th>\n",
       "      <td>-0.071066</td>\n",
       "      <td>-0.030457</td>\n",
       "      <td>0.010152</td>\n",
       "      <td>-0.010152</td>\n",
       "      <td>0.005076</td>\n",
       "      <td>0.0</td>\n",
       "    </tr>\n",
       "    <tr>\n",
       "      <th>Random Forest</th>\n",
       "      <td>-0.086294</td>\n",
       "      <td>-0.020305</td>\n",
       "      <td>-0.035533</td>\n",
       "      <td>-0.030457</td>\n",
       "      <td>0.0</td>\n",
       "      <td>0.0</td>\n",
       "    </tr>\n",
       "  </tbody>\n",
       "</table>\n",
       "</div>"
      ],
      "text/plain": [
       "                                 5         10        30        50        80   \\\n",
       "IADQ_df      SVC           -0.111111 -0.111111 -0.055556 -0.011111 -0.011111   \n",
       "             Random Forest -0.111111 -0.111111 -0.011111 -0.022222 -0.044444   \n",
       "PHQ9_GAD7_df SVC           -0.035714 -0.004464 -0.004464 -0.004464 -0.004464   \n",
       "             Random Forest -0.035714 -0.004464 -0.008929 -0.004464  0.004464   \n",
       "PRMQ_df      SVC           -0.071174 -0.042705 -0.010676       0.0 -0.003559   \n",
       "             Random Forest -0.092527 -0.085409 -0.039146 -0.007117       0.0   \n",
       "RAW_DDDT     SVC           -0.071066 -0.030457  0.010152 -0.010152  0.005076   \n",
       "             Random Forest -0.086294 -0.020305 -0.035533 -0.030457       0.0   \n",
       "\n",
       "                            100  \n",
       "IADQ_df      SVC            0.0  \n",
       "             Random Forest  0.0  \n",
       "PHQ9_GAD7_df SVC            0.0  \n",
       "             Random Forest  0.0  \n",
       "PRMQ_df      SVC            0.0  \n",
       "             Random Forest  0.0  \n",
       "RAW_DDDT     SVC            0.0  \n",
       "             Random Forest  0.0  "
      ]
     },
     "execution_count": 174,
     "metadata": {},
     "output_type": "execute_result"
    }
   ],
   "source": [
    "scores_lasso_diff = scores_lasso.subtract(scores_lasso[100],axis='index')\n",
    "scores_lasso_diff"
   ]
  },
  {
   "cell_type": "code",
   "execution_count": 213,
   "metadata": {},
   "outputs": [
    {
     "data": {
      "text/plain": [
       "5                                                    [1]\n",
       "10                                               [1, 12]\n",
       "30                                     [1, 5, 7, 12, 14]\n",
       "50                            [1, 2, 4, 5, 6, 7, 12, 14]\n",
       "80              [0, 1, 2, 3, 4, 5, 6, 7, 11, 12, 13, 14]\n",
       "100    [0, 1, 2, 3, 4, 5, 6, 7, 8, 9, 10, 11, 12, 13,...\n",
       "Name: PRMQ_df, dtype: object"
      ]
     },
     "execution_count": 213,
     "metadata": {},
     "output_type": "execute_result"
    }
   ],
   "source": [
    "features_chi2['PRMQ_df']"
   ]
  },
  {
   "cell_type": "code",
   "execution_count": null,
   "metadata": {},
   "outputs": [
    {
     "data": {
      "text/plain": [
       "5                                                    [1]\n",
       "10                                                [1, 7]\n",
       "30                                     [1, 2, 7, 12, 14]\n",
       "50                            [1, 2, 3, 4, 5, 7, 12, 14]\n",
       "80             [0, 1, 2, 3, 4, 5, 7, 11, 12, 13, 14, 15]\n",
       "100    [0, 1, 2, 3, 4, 5, 6, 7, 8, 9, 10, 11, 12, 13,...\n",
       "Name: PRMQ_df, dtype: object"
      ]
     },
     "execution_count": 176,
     "metadata": {},
     "output_type": "execute_result"
    }
   ],
   "source": [
    "features_mi['PRMQ_df']"
   ]
  },
  {
   "cell_type": "code",
   "execution_count": null,
   "metadata": {},
   "outputs": [
    {
     "data": {
      "text/plain": [
       "5                                                    [1]\n",
       "10                                               [1, 10]\n",
       "30                                     [1, 2, 9, 10, 12]\n",
       "50                            [1, 2, 4, 5, 7, 9, 10, 12]\n",
       "80             [1, 2, 3, 4, 5, 7, 9, 10, 11, 12, 14, 15]\n",
       "100    [0, 1, 2, 3, 4, 5, 6, 7, 8, 9, 10, 11, 12, 13,...\n",
       "Name: PRMQ_df, dtype: object"
      ]
     },
     "execution_count": 177,
     "metadata": {},
     "output_type": "execute_result"
    }
   ],
   "source": [
    "features_lasso['PRMQ_df']"
   ]
  },
  {
   "cell_type": "code",
   "execution_count": null,
   "metadata": {},
   "outputs": [
    {
     "data": {
      "text/plain": [
       "5                                                    [1]\n",
       "10                                               [1, 12]\n",
       "30                                     [1, 5, 7, 12, 14]\n",
       "50                            [1, 2, 4, 5, 6, 7, 12, 14]\n",
       "80              [0, 1, 2, 3, 4, 5, 6, 7, 11, 12, 13, 14]\n",
       "100    [0, 1, 2, 3, 4, 5, 6, 7, 8, 9, 10, 11, 12, 13,...\n",
       "Name: PRMQ_df, dtype: object"
      ]
     },
     "execution_count": 185,
     "metadata": {},
     "output_type": "execute_result"
    }
   ],
   "source": [
    "features_chi2['PRMQ_df']"
   ]
  },
  {
   "cell_type": "code",
   "execution_count": 222,
   "metadata": {},
   "outputs": [
    {
     "ename": "KeyError",
     "evalue": "0",
     "output_type": "error",
     "traceback": [
      "\u001b[1;31m---------------------------------------------------------------------------\u001b[0m",
      "\u001b[1;31mKeyError\u001b[0m                                  Traceback (most recent call last)",
      "\u001b[1;32mc:\\Users\\xps\\anaconda3\\envs\\env\\lib\\site-packages\\pandas\\core\\indexes\\base.py\u001b[0m in \u001b[0;36mget_loc\u001b[1;34m(self, key, method, tolerance)\u001b[0m\n\u001b[0;32m   3620\u001b[0m             \u001b[1;32mtry\u001b[0m\u001b[1;33m:\u001b[0m\u001b[1;33m\u001b[0m\u001b[1;33m\u001b[0m\u001b[0m\n\u001b[1;32m-> 3621\u001b[1;33m                 \u001b[1;32mreturn\u001b[0m \u001b[0mself\u001b[0m\u001b[1;33m.\u001b[0m\u001b[0m_engine\u001b[0m\u001b[1;33m.\u001b[0m\u001b[0mget_loc\u001b[0m\u001b[1;33m(\u001b[0m\u001b[0mcasted_key\u001b[0m\u001b[1;33m)\u001b[0m\u001b[1;33m\u001b[0m\u001b[1;33m\u001b[0m\u001b[0m\n\u001b[0m\u001b[0;32m   3622\u001b[0m             \u001b[1;32mexcept\u001b[0m \u001b[0mKeyError\u001b[0m \u001b[1;32mas\u001b[0m \u001b[0merr\u001b[0m\u001b[1;33m:\u001b[0m\u001b[1;33m\u001b[0m\u001b[1;33m\u001b[0m\u001b[0m\n",
      "\u001b[1;32mc:\\Users\\xps\\anaconda3\\envs\\env\\lib\\site-packages\\pandas\\_libs\\index.pyx\u001b[0m in \u001b[0;36mpandas._libs.index.IndexEngine.get_loc\u001b[1;34m()\u001b[0m\n",
      "\u001b[1;32mc:\\Users\\xps\\anaconda3\\envs\\env\\lib\\site-packages\\pandas\\_libs\\index.pyx\u001b[0m in \u001b[0;36mpandas._libs.index.IndexEngine.get_loc\u001b[1;34m()\u001b[0m\n",
      "\u001b[1;32mpandas\\_libs\\hashtable_class_helper.pxi\u001b[0m in \u001b[0;36mpandas._libs.hashtable.PyObjectHashTable.get_item\u001b[1;34m()\u001b[0m\n",
      "\u001b[1;32mpandas\\_libs\\hashtable_class_helper.pxi\u001b[0m in \u001b[0;36mpandas._libs.hashtable.PyObjectHashTable.get_item\u001b[1;34m()\u001b[0m\n",
      "\u001b[1;31mKeyError\u001b[0m: 0",
      "\nThe above exception was the direct cause of the following exception:\n",
      "\u001b[1;31mKeyError\u001b[0m                                  Traceback (most recent call last)",
      "\u001b[1;32m~\\AppData\\Local\\Temp/ipykernel_16676/3207103710.py\u001b[0m in \u001b[0;36m<module>\u001b[1;34m\u001b[0m\n\u001b[0;32m     15\u001b[0m     \u001b[1;32mreturn\u001b[0m \u001b[0mdf\u001b[0m\u001b[1;33m\u001b[0m\u001b[1;33m\u001b[0m\u001b[0m\n\u001b[0;32m     16\u001b[0m \u001b[1;33m\u001b[0m\u001b[0m\n\u001b[1;32m---> 17\u001b[1;33m \u001b[0mft\u001b[0m \u001b[1;33m=\u001b[0m \u001b[0mbuild_binary_feature_table\u001b[0m\u001b[1;33m(\u001b[0m\u001b[1;34m'PRMQ_df'\u001b[0m\u001b[1;33m,\u001b[0m \u001b[0mpercentiles\u001b[0m\u001b[1;33m,\u001b[0m \u001b[0mfeature_funs\u001b[0m\u001b[1;33m,\u001b[0m \u001b[0mnp\u001b[0m\u001b[1;33m.\u001b[0m\u001b[0marange\u001b[0m\u001b[1;33m(\u001b[0m\u001b[1;36m0\u001b[0m\u001b[1;33m,\u001b[0m\u001b[0mlen\u001b[0m\u001b[1;33m(\u001b[0m\u001b[0mdatasets\u001b[0m\u001b[1;33m[\u001b[0m\u001b[1;34m'PRMQ_df'\u001b[0m\u001b[1;33m]\u001b[0m\u001b[1;33m.\u001b[0m\u001b[0mcolumns\u001b[0m\u001b[1;33m)\u001b[0m\u001b[1;33m)\u001b[0m\u001b[1;33m)\u001b[0m\u001b[1;33m\u001b[0m\u001b[1;33m\u001b[0m\u001b[0m\n\u001b[0m\u001b[0;32m     18\u001b[0m \u001b[0mft\u001b[0m\u001b[1;33m\u001b[0m\u001b[1;33m\u001b[0m\u001b[0m\n",
      "\u001b[1;32m~\\AppData\\Local\\Temp/ipykernel_16676/3207103710.py\u001b[0m in \u001b[0;36mbuild_binary_feature_table\u001b[1;34m(dname, percentiles, feature_funs, full_feature_list)\u001b[0m\n\u001b[0;32m     12\u001b[0m                     \u001b[0mdf\u001b[0m\u001b[1;33m[\u001b[0m\u001b[0mftre\u001b[0m\u001b[1;33m]\u001b[0m\u001b[1;33m.\u001b[0m\u001b[0mloc\u001b[0m\u001b[1;33m[\u001b[0m\u001b[1;33m(\u001b[0m\u001b[0mper\u001b[0m\u001b[1;33m,\u001b[0m\u001b[0mfun\u001b[0m\u001b[1;33m)\u001b[0m\u001b[1;33m]\u001b[0m \u001b[1;33m=\u001b[0m \u001b[1;36m1\u001b[0m\u001b[1;33m\u001b[0m\u001b[1;33m\u001b[0m\u001b[0m\n\u001b[0;32m     13\u001b[0m                 \u001b[1;32melse\u001b[0m\u001b[1;33m:\u001b[0m\u001b[1;33m\u001b[0m\u001b[1;33m\u001b[0m\u001b[0m\n\u001b[1;32m---> 14\u001b[1;33m                     \u001b[0mdf\u001b[0m\u001b[1;33m[\u001b[0m\u001b[0mftre\u001b[0m\u001b[1;33m]\u001b[0m\u001b[1;33m.\u001b[0m\u001b[0mloc\u001b[0m\u001b[1;33m[\u001b[0m\u001b[1;33m(\u001b[0m\u001b[0mper\u001b[0m\u001b[1;33m,\u001b[0m\u001b[0mfun\u001b[0m\u001b[1;33m)\u001b[0m\u001b[1;33m]\u001b[0m \u001b[1;33m=\u001b[0m \u001b[1;36m0\u001b[0m\u001b[1;33m\u001b[0m\u001b[1;33m\u001b[0m\u001b[0m\n\u001b[0m\u001b[0;32m     15\u001b[0m     \u001b[1;32mreturn\u001b[0m \u001b[0mdf\u001b[0m\u001b[1;33m\u001b[0m\u001b[1;33m\u001b[0m\u001b[0m\n\u001b[0;32m     16\u001b[0m \u001b[1;33m\u001b[0m\u001b[0m\n",
      "\u001b[1;32mc:\\Users\\xps\\anaconda3\\envs\\env\\lib\\site-packages\\pandas\\core\\frame.py\u001b[0m in \u001b[0;36m__getitem__\u001b[1;34m(self, key)\u001b[0m\n\u001b[0;32m   3503\u001b[0m             \u001b[1;32mif\u001b[0m \u001b[0mself\u001b[0m\u001b[1;33m.\u001b[0m\u001b[0mcolumns\u001b[0m\u001b[1;33m.\u001b[0m\u001b[0mnlevels\u001b[0m \u001b[1;33m>\u001b[0m \u001b[1;36m1\u001b[0m\u001b[1;33m:\u001b[0m\u001b[1;33m\u001b[0m\u001b[1;33m\u001b[0m\u001b[0m\n\u001b[0;32m   3504\u001b[0m                 \u001b[1;32mreturn\u001b[0m \u001b[0mself\u001b[0m\u001b[1;33m.\u001b[0m\u001b[0m_getitem_multilevel\u001b[0m\u001b[1;33m(\u001b[0m\u001b[0mkey\u001b[0m\u001b[1;33m)\u001b[0m\u001b[1;33m\u001b[0m\u001b[1;33m\u001b[0m\u001b[0m\n\u001b[1;32m-> 3505\u001b[1;33m             \u001b[0mindexer\u001b[0m \u001b[1;33m=\u001b[0m \u001b[0mself\u001b[0m\u001b[1;33m.\u001b[0m\u001b[0mcolumns\u001b[0m\u001b[1;33m.\u001b[0m\u001b[0mget_loc\u001b[0m\u001b[1;33m(\u001b[0m\u001b[0mkey\u001b[0m\u001b[1;33m)\u001b[0m\u001b[1;33m\u001b[0m\u001b[1;33m\u001b[0m\u001b[0m\n\u001b[0m\u001b[0;32m   3506\u001b[0m             \u001b[1;32mif\u001b[0m \u001b[0mis_integer\u001b[0m\u001b[1;33m(\u001b[0m\u001b[0mindexer\u001b[0m\u001b[1;33m)\u001b[0m\u001b[1;33m:\u001b[0m\u001b[1;33m\u001b[0m\u001b[1;33m\u001b[0m\u001b[0m\n\u001b[0;32m   3507\u001b[0m                 \u001b[0mindexer\u001b[0m \u001b[1;33m=\u001b[0m \u001b[1;33m[\u001b[0m\u001b[0mindexer\u001b[0m\u001b[1;33m]\u001b[0m\u001b[1;33m\u001b[0m\u001b[1;33m\u001b[0m\u001b[0m\n",
      "\u001b[1;32mc:\\Users\\xps\\anaconda3\\envs\\env\\lib\\site-packages\\pandas\\core\\indexes\\base.py\u001b[0m in \u001b[0;36mget_loc\u001b[1;34m(self, key, method, tolerance)\u001b[0m\n\u001b[0;32m   3621\u001b[0m                 \u001b[1;32mreturn\u001b[0m \u001b[0mself\u001b[0m\u001b[1;33m.\u001b[0m\u001b[0m_engine\u001b[0m\u001b[1;33m.\u001b[0m\u001b[0mget_loc\u001b[0m\u001b[1;33m(\u001b[0m\u001b[0mcasted_key\u001b[0m\u001b[1;33m)\u001b[0m\u001b[1;33m\u001b[0m\u001b[1;33m\u001b[0m\u001b[0m\n\u001b[0;32m   3622\u001b[0m             \u001b[1;32mexcept\u001b[0m \u001b[0mKeyError\u001b[0m \u001b[1;32mas\u001b[0m \u001b[0merr\u001b[0m\u001b[1;33m:\u001b[0m\u001b[1;33m\u001b[0m\u001b[1;33m\u001b[0m\u001b[0m\n\u001b[1;32m-> 3623\u001b[1;33m                 \u001b[1;32mraise\u001b[0m \u001b[0mKeyError\u001b[0m\u001b[1;33m(\u001b[0m\u001b[0mkey\u001b[0m\u001b[1;33m)\u001b[0m \u001b[1;32mfrom\u001b[0m \u001b[0merr\u001b[0m\u001b[1;33m\u001b[0m\u001b[1;33m\u001b[0m\u001b[0m\n\u001b[0m\u001b[0;32m   3624\u001b[0m             \u001b[1;32mexcept\u001b[0m \u001b[0mTypeError\u001b[0m\u001b[1;33m:\u001b[0m\u001b[1;33m\u001b[0m\u001b[1;33m\u001b[0m\u001b[0m\n\u001b[0;32m   3625\u001b[0m                 \u001b[1;31m# If we have a listlike key, _check_indexing_error will raise\u001b[0m\u001b[1;33m\u001b[0m\u001b[1;33m\u001b[0m\u001b[0m\n",
      "\u001b[1;31mKeyError\u001b[0m: 0"
     ]
    }
   ],
   "source": [
    "def build_feature_list(dname):\n",
    "    return pd.DataFrame({'chi2': features_chi2[dname], 'mi': features_mi[dname], 'lasso': features_lasso[dname]})\n",
    "\n",
    "def build_binary_feature_table(dname, percentiles, feature_funs, full_feature_list):\n",
    "    used_features = build_feature_list(dname)\n",
    "    df = pd.DataFrame(index=pd.MultiIndex.from_product([percentiles, feature_funs]), columns=full_feature_list)\n",
    "    for ftre in full_feature_list:\n",
    "        for fun in feature_funs:\n",
    "            for per in percentiles:\n",
    "                if ftre in used_features[fun].loc[per]:\n",
    "                    df[ftre].loc[(per,fun)] = 1\n",
    "                else:\n",
    "                    df[ftre].loc[(per,fun)] = 0\n",
    "    return df\n",
    "\n",
    "ft = build_binary_feature_table('PRMQ_df', percentiles, feature_funs, np.arange(0,len(datasets['PRMQ_df'].columns)))\n",
    "ft"
   ]
  },
  {
   "cell_type": "code",
   "execution_count": null,
   "metadata": {},
   "outputs": [],
   "source": [
    "def build_feature_table(datasets, selected_features):\n",
    "    pass"
   ]
  },
  {
   "cell_type": "code",
   "execution_count": null,
   "metadata": {},
   "outputs": [
    {
     "ename": "KeyError",
     "evalue": "'Pr1'",
     "output_type": "error",
     "traceback": [
      "\u001b[1;31m---------------------------------------------------------------------------\u001b[0m",
      "\u001b[1;31mKeyError\u001b[0m                                  Traceback (most recent call last)",
      "\u001b[1;32mc:\\Users\\xps\\anaconda3\\envs\\env\\lib\\site-packages\\pandas\\core\\indexes\\base.py\u001b[0m in \u001b[0;36mget_loc\u001b[1;34m(self, key, method, tolerance)\u001b[0m\n\u001b[0;32m   3620\u001b[0m             \u001b[1;32mtry\u001b[0m\u001b[1;33m:\u001b[0m\u001b[1;33m\u001b[0m\u001b[1;33m\u001b[0m\u001b[0m\n\u001b[1;32m-> 3621\u001b[1;33m                 \u001b[1;32mreturn\u001b[0m \u001b[0mself\u001b[0m\u001b[1;33m.\u001b[0m\u001b[0m_engine\u001b[0m\u001b[1;33m.\u001b[0m\u001b[0mget_loc\u001b[0m\u001b[1;33m(\u001b[0m\u001b[0mcasted_key\u001b[0m\u001b[1;33m)\u001b[0m\u001b[1;33m\u001b[0m\u001b[1;33m\u001b[0m\u001b[0m\n\u001b[0m\u001b[0;32m   3622\u001b[0m             \u001b[1;32mexcept\u001b[0m \u001b[0mKeyError\u001b[0m \u001b[1;32mas\u001b[0m \u001b[0merr\u001b[0m\u001b[1;33m:\u001b[0m\u001b[1;33m\u001b[0m\u001b[1;33m\u001b[0m\u001b[0m\n",
      "\u001b[1;32mc:\\Users\\xps\\anaconda3\\envs\\env\\lib\\site-packages\\pandas\\_libs\\index.pyx\u001b[0m in \u001b[0;36mpandas._libs.index.IndexEngine.get_loc\u001b[1;34m()\u001b[0m\n",
      "\u001b[1;32mc:\\Users\\xps\\anaconda3\\envs\\env\\lib\\site-packages\\pandas\\_libs\\index.pyx\u001b[0m in \u001b[0;36mpandas._libs.index.IndexEngine.get_loc\u001b[1;34m()\u001b[0m\n",
      "\u001b[1;32mpandas\\_libs\\hashtable_class_helper.pxi\u001b[0m in \u001b[0;36mpandas._libs.hashtable.PyObjectHashTable.get_item\u001b[1;34m()\u001b[0m\n",
      "\u001b[1;32mpandas\\_libs\\hashtable_class_helper.pxi\u001b[0m in \u001b[0;36mpandas._libs.hashtable.PyObjectHashTable.get_item\u001b[1;34m()\u001b[0m\n",
      "\u001b[1;31mKeyError\u001b[0m: 'Pr1'",
      "\nThe above exception was the direct cause of the following exception:\n",
      "\u001b[1;31mKeyError\u001b[0m                                  Traceback (most recent call last)",
      "\u001b[1;32m~\\AppData\\Local\\Temp/ipykernel_2584/1940082796.py\u001b[0m in \u001b[0;36m<module>\u001b[1;34m\u001b[0m\n\u001b[1;32m----> 1\u001b[1;33m \u001b[0mdata_exp\u001b[0m \u001b[1;33m=\u001b[0m \u001b[0madd_interactions\u001b[0m\u001b[1;33m(\u001b[0m\u001b[0mrawdata\u001b[0m\u001b[1;33m,\u001b[0m \u001b[0mcol_names\u001b[0m\u001b[1;33m=\u001b[0m\u001b[1;33m[\u001b[0m\u001b[1;34m'Pr1'\u001b[0m\u001b[1;33m,\u001b[0m \u001b[1;34m'Pr2'\u001b[0m\u001b[1;33m,\u001b[0m \u001b[1;34m'Pr3'\u001b[0m\u001b[1;33m]\u001b[0m\u001b[1;33m)\u001b[0m\u001b[1;33m\u001b[0m\u001b[1;33m\u001b[0m\u001b[0m\n\u001b[0m\u001b[0;32m      2\u001b[0m \u001b[0mdata_exp\u001b[0m \u001b[1;33m=\u001b[0m \u001b[0madd_interactions\u001b[0m\u001b[1;33m(\u001b[0m\u001b[0mdata_exp\u001b[0m\u001b[1;33m,\u001b[0m \u001b[0mcol_names\u001b[0m\u001b[1;33m=\u001b[0m\u001b[1;33m[\u001b[0m\u001b[1;34m'FA1'\u001b[0m\u001b[1;33m,\u001b[0m \u001b[1;34m'FA2'\u001b[0m\u001b[1;33m,\u001b[0m \u001b[1;34m'FA3'\u001b[0m\u001b[1;33m]\u001b[0m\u001b[1;33m)\u001b[0m\u001b[1;33m\u001b[0m\u001b[1;33m\u001b[0m\u001b[0m\n\u001b[0;32m      3\u001b[0m \u001b[0mdata_exp\u001b[0m \u001b[1;33m=\u001b[0m \u001b[0madd_interactions\u001b[0m\u001b[1;33m(\u001b[0m\u001b[0mdata_exp\u001b[0m\u001b[1;33m,\u001b[0m \u001b[0mcol_names\u001b[0m\u001b[1;33m=\u001b[0m\u001b[1;33m[\u001b[0m\u001b[1;34m'FI1'\u001b[0m\u001b[1;33m,\u001b[0m \u001b[1;34m'FI2'\u001b[0m\u001b[1;33m,\u001b[0m \u001b[1;34m'FI3'\u001b[0m\u001b[1;33m]\u001b[0m\u001b[1;33m)\u001b[0m\u001b[1;33m\u001b[0m\u001b[1;33m\u001b[0m\u001b[0m\n\u001b[0;32m      4\u001b[0m \u001b[1;33m\u001b[0m\u001b[0m\n\u001b[0;32m      5\u001b[0m \u001b[0mX_exp\u001b[0m \u001b[1;33m=\u001b[0m \u001b[0mdata_exp\u001b[0m\u001b[1;33m.\u001b[0m\u001b[0mdrop\u001b[0m\u001b[1;33m(\u001b[0m\u001b[1;33m[\u001b[0m\u001b[0mTARGET\u001b[0m\u001b[1;33m]\u001b[0m\u001b[1;33m,\u001b[0m\u001b[0maxis\u001b[0m\u001b[1;33m=\u001b[0m\u001b[1;36m1\u001b[0m\u001b[1;33m)\u001b[0m\u001b[1;33m\u001b[0m\u001b[1;33m\u001b[0m\u001b[0m\n",
      "\u001b[1;32m~\\AppData\\Local\\Temp/ipykernel_2584/4050065343.py\u001b[0m in \u001b[0;36madd_interactions\u001b[1;34m(df, col_names, max_order)\u001b[0m\n\u001b[0;32m     50\u001b[0m     \u001b[1;32mfor\u001b[0m \u001b[0mints_ord_i\u001b[0m \u001b[1;32min\u001b[0m \u001b[0mall_ints\u001b[0m\u001b[1;33m:\u001b[0m\u001b[1;33m\u001b[0m\u001b[1;33m\u001b[0m\u001b[0m\n\u001b[0;32m     51\u001b[0m         \u001b[1;32mfor\u001b[0m \u001b[0minter\u001b[0m \u001b[1;32min\u001b[0m \u001b[0mints_ord_i\u001b[0m\u001b[1;33m:\u001b[0m\u001b[1;33m\u001b[0m\u001b[1;33m\u001b[0m\u001b[0m\n\u001b[1;32m---> 52\u001b[1;33m             \u001b[0mnew_col\u001b[0m \u001b[1;33m=\u001b[0m \u001b[0mcalc_interaction\u001b[0m\u001b[1;33m(\u001b[0m\u001b[0mdf\u001b[0m\u001b[1;33m,\u001b[0m\u001b[0minter\u001b[0m\u001b[1;33m)\u001b[0m\u001b[1;33m\u001b[0m\u001b[1;33m\u001b[0m\u001b[0m\n\u001b[0m\u001b[0;32m     53\u001b[0m             \u001b[0mres\u001b[0m\u001b[1;33m[\u001b[0m\u001b[1;34m'.'\u001b[0m\u001b[1;33m.\u001b[0m\u001b[0mjoin\u001b[0m\u001b[1;33m(\u001b[0m\u001b[0mmap\u001b[0m\u001b[1;33m(\u001b[0m\u001b[0mstr\u001b[0m\u001b[1;33m,\u001b[0m\u001b[0minter\u001b[0m\u001b[1;33m)\u001b[0m\u001b[1;33m)\u001b[0m\u001b[1;33m]\u001b[0m \u001b[1;33m=\u001b[0m \u001b[0mnew_col\u001b[0m\u001b[1;33m\u001b[0m\u001b[1;33m\u001b[0m\u001b[0m\n\u001b[0;32m     54\u001b[0m     \u001b[1;32mreturn\u001b[0m \u001b[0mres\u001b[0m\u001b[1;33m\u001b[0m\u001b[1;33m\u001b[0m\u001b[0m\n",
      "\u001b[1;32m~\\AppData\\Local\\Temp/ipykernel_2584/4050065343.py\u001b[0m in \u001b[0;36mcalc_interaction\u001b[1;34m(data, cols)\u001b[0m\n\u001b[0;32m     27\u001b[0m     \u001b[0mres\u001b[0m \u001b[1;33m=\u001b[0m \u001b[0mpd\u001b[0m\u001b[1;33m.\u001b[0m\u001b[0mSeries\u001b[0m\u001b[1;33m(\u001b[0m\u001b[0mdata\u001b[0m\u001b[1;33m=\u001b[0m\u001b[0mnp\u001b[0m\u001b[1;33m.\u001b[0m\u001b[0mones\u001b[0m\u001b[1;33m(\u001b[0m\u001b[0mdata\u001b[0m\u001b[1;33m.\u001b[0m\u001b[0mshape\u001b[0m\u001b[1;33m[\u001b[0m\u001b[1;36m0\u001b[0m\u001b[1;33m]\u001b[0m\u001b[1;33m)\u001b[0m\u001b[1;33m)\u001b[0m\u001b[1;33m\u001b[0m\u001b[1;33m\u001b[0m\u001b[0m\n\u001b[0;32m     28\u001b[0m     \u001b[1;32mfor\u001b[0m \u001b[0mc\u001b[0m \u001b[1;32min\u001b[0m \u001b[0mcols\u001b[0m\u001b[1;33m:\u001b[0m\u001b[1;33m\u001b[0m\u001b[1;33m\u001b[0m\u001b[0m\n\u001b[1;32m---> 29\u001b[1;33m         \u001b[0mres\u001b[0m \u001b[1;33m*=\u001b[0m \u001b[0mdata\u001b[0m\u001b[1;33m[\u001b[0m\u001b[0mc\u001b[0m\u001b[1;33m]\u001b[0m\u001b[1;33m\u001b[0m\u001b[1;33m\u001b[0m\u001b[0m\n\u001b[0m\u001b[0;32m     30\u001b[0m     \u001b[1;32mreturn\u001b[0m \u001b[0mres\u001b[0m\u001b[1;33m\u001b[0m\u001b[1;33m\u001b[0m\u001b[0m\n\u001b[0;32m     31\u001b[0m \u001b[1;33m\u001b[0m\u001b[0m\n",
      "\u001b[1;32mc:\\Users\\xps\\anaconda3\\envs\\env\\lib\\site-packages\\pandas\\core\\frame.py\u001b[0m in \u001b[0;36m__getitem__\u001b[1;34m(self, key)\u001b[0m\n\u001b[0;32m   3503\u001b[0m             \u001b[1;32mif\u001b[0m \u001b[0mself\u001b[0m\u001b[1;33m.\u001b[0m\u001b[0mcolumns\u001b[0m\u001b[1;33m.\u001b[0m\u001b[0mnlevels\u001b[0m \u001b[1;33m>\u001b[0m \u001b[1;36m1\u001b[0m\u001b[1;33m:\u001b[0m\u001b[1;33m\u001b[0m\u001b[1;33m\u001b[0m\u001b[0m\n\u001b[0;32m   3504\u001b[0m                 \u001b[1;32mreturn\u001b[0m \u001b[0mself\u001b[0m\u001b[1;33m.\u001b[0m\u001b[0m_getitem_multilevel\u001b[0m\u001b[1;33m(\u001b[0m\u001b[0mkey\u001b[0m\u001b[1;33m)\u001b[0m\u001b[1;33m\u001b[0m\u001b[1;33m\u001b[0m\u001b[0m\n\u001b[1;32m-> 3505\u001b[1;33m             \u001b[0mindexer\u001b[0m \u001b[1;33m=\u001b[0m \u001b[0mself\u001b[0m\u001b[1;33m.\u001b[0m\u001b[0mcolumns\u001b[0m\u001b[1;33m.\u001b[0m\u001b[0mget_loc\u001b[0m\u001b[1;33m(\u001b[0m\u001b[0mkey\u001b[0m\u001b[1;33m)\u001b[0m\u001b[1;33m\u001b[0m\u001b[1;33m\u001b[0m\u001b[0m\n\u001b[0m\u001b[0;32m   3506\u001b[0m             \u001b[1;32mif\u001b[0m \u001b[0mis_integer\u001b[0m\u001b[1;33m(\u001b[0m\u001b[0mindexer\u001b[0m\u001b[1;33m)\u001b[0m\u001b[1;33m:\u001b[0m\u001b[1;33m\u001b[0m\u001b[1;33m\u001b[0m\u001b[0m\n\u001b[0;32m   3507\u001b[0m                 \u001b[0mindexer\u001b[0m \u001b[1;33m=\u001b[0m \u001b[1;33m[\u001b[0m\u001b[0mindexer\u001b[0m\u001b[1;33m]\u001b[0m\u001b[1;33m\u001b[0m\u001b[1;33m\u001b[0m\u001b[0m\n",
      "\u001b[1;32mc:\\Users\\xps\\anaconda3\\envs\\env\\lib\\site-packages\\pandas\\core\\indexes\\base.py\u001b[0m in \u001b[0;36mget_loc\u001b[1;34m(self, key, method, tolerance)\u001b[0m\n\u001b[0;32m   3621\u001b[0m                 \u001b[1;32mreturn\u001b[0m \u001b[0mself\u001b[0m\u001b[1;33m.\u001b[0m\u001b[0m_engine\u001b[0m\u001b[1;33m.\u001b[0m\u001b[0mget_loc\u001b[0m\u001b[1;33m(\u001b[0m\u001b[0mcasted_key\u001b[0m\u001b[1;33m)\u001b[0m\u001b[1;33m\u001b[0m\u001b[1;33m\u001b[0m\u001b[0m\n\u001b[0;32m   3622\u001b[0m             \u001b[1;32mexcept\u001b[0m \u001b[0mKeyError\u001b[0m \u001b[1;32mas\u001b[0m \u001b[0merr\u001b[0m\u001b[1;33m:\u001b[0m\u001b[1;33m\u001b[0m\u001b[1;33m\u001b[0m\u001b[0m\n\u001b[1;32m-> 3623\u001b[1;33m                 \u001b[1;32mraise\u001b[0m \u001b[0mKeyError\u001b[0m\u001b[1;33m(\u001b[0m\u001b[0mkey\u001b[0m\u001b[1;33m)\u001b[0m \u001b[1;32mfrom\u001b[0m \u001b[0merr\u001b[0m\u001b[1;33m\u001b[0m\u001b[1;33m\u001b[0m\u001b[0m\n\u001b[0m\u001b[0;32m   3624\u001b[0m             \u001b[1;32mexcept\u001b[0m \u001b[0mTypeError\u001b[0m\u001b[1;33m:\u001b[0m\u001b[1;33m\u001b[0m\u001b[1;33m\u001b[0m\u001b[0m\n\u001b[0;32m   3625\u001b[0m                 \u001b[1;31m# If we have a listlike key, _check_indexing_error will raise\u001b[0m\u001b[1;33m\u001b[0m\u001b[1;33m\u001b[0m\u001b[0m\n",
      "\u001b[1;31mKeyError\u001b[0m: 'Pr1'"
     ]
    }
   ],
   "source": [
    "data_exp = add_interactions(rawdata, col_names=['Pr1', 'Pr2', 'Pr3'])\n",
    "data_exp = add_interactions(data_exp, col_names=['FA1', 'FA2', 'FA3'])\n",
    "data_exp = add_interactions(data_exp, col_names=['FI1', 'FI2', 'FI3'])\n",
    "\n",
    "X_exp = data_exp.drop([TARGET],axis=1)\n",
    "y_exp = data_exp[TARGET]"
   ]
  },
  {
   "cell_type": "code",
   "execution_count": null,
   "metadata": {},
   "outputs": [
    {
     "ename": "NameError",
     "evalue": "name 'y_tv' is not defined",
     "output_type": "error",
     "traceback": [
      "\u001b[1;31m---------------------------------------------------------------------------\u001b[0m",
      "\u001b[1;31mNameError\u001b[0m                                 Traceback (most recent call last)",
      "\u001b[1;32m~\\AppData\\Local\\Temp/ipykernel_14052/3196002792.py\u001b[0m in \u001b[0;36m<module>\u001b[1;34m\u001b[0m\n\u001b[0;32m      5\u001b[0m \u001b[0mX_exp_tv\u001b[0m \u001b[1;33m=\u001b[0m \u001b[0msc_exp\u001b[0m\u001b[1;33m.\u001b[0m\u001b[0mtransform\u001b[0m\u001b[1;33m(\u001b[0m\u001b[0mX_exp_tv\u001b[0m\u001b[1;33m)\u001b[0m\u001b[1;33m\u001b[0m\u001b[1;33m\u001b[0m\u001b[0m\n\u001b[0;32m      6\u001b[0m \u001b[1;33m\u001b[0m\u001b[0m\n\u001b[1;32m----> 7\u001b[1;33m \u001b[0mX_exp_val\u001b[0m\u001b[1;33m,\u001b[0m \u001b[0mX_exp_test\u001b[0m\u001b[1;33m,\u001b[0m \u001b[0my_exp_val\u001b[0m\u001b[1;33m,\u001b[0m \u001b[0my_exp_test\u001b[0m \u001b[1;33m=\u001b[0m \u001b[0mtrain_test_split\u001b[0m\u001b[1;33m(\u001b[0m\u001b[0mX_exp_tv\u001b[0m\u001b[1;33m,\u001b[0m \u001b[0my_tv\u001b[0m\u001b[1;33m,\u001b[0m \u001b[0mtest_size\u001b[0m\u001b[1;33m=\u001b[0m\u001b[0mVALSIZE\u001b[0m\u001b[1;33m,\u001b[0m\u001b[0mrandom_state\u001b[0m\u001b[1;33m=\u001b[0m\u001b[0mRANDOM_STATE\u001b[0m\u001b[1;33m)\u001b[0m\u001b[1;33m\u001b[0m\u001b[1;33m\u001b[0m\u001b[0m\n\u001b[0m",
      "\u001b[1;31mNameError\u001b[0m: name 'y_tv' is not defined"
     ]
    }
   ],
   "source": [
    "X_exp_train, X_exp_tv, y_exp_train, y_exp_tv = train_test_split(X_exp, y_exp, test_size=TESTSIZE,random_state=RANDOM_STATE)\n",
    "\n",
    "sc_exp = StandardScaler()\n",
    "X_exp_train = sc_exp.fit_transform(X_exp_train)\n",
    "X_exp_tv = sc_exp.transform(X_exp_tv)\n",
    "\n",
    "X_exp_val, X_exp_test, y_exp_val, y_exp_test = train_test_split(X_exp_tv, y_tv, test_size=VALSIZE,random_state=RANDOM_STATE)"
   ]
  },
  {
   "cell_type": "code",
   "execution_count": null,
   "metadata": {},
   "outputs": [
    {
     "data": {
      "text/plain": [
       "0.9444444444444444"
      ]
     },
     "execution_count": 53,
     "metadata": {},
     "output_type": "execute_result"
    }
   ],
   "source": [
    "np.sum(y_exp_train == 1)/np.sum(y_exp_train==0)"
   ]
  },
  {
   "cell_type": "code",
   "execution_count": null,
   "metadata": {},
   "outputs": [
    {
     "data": {
      "text/plain": [
       "0.8208955223880597"
      ]
     },
     "execution_count": 54,
     "metadata": {},
     "output_type": "execute_result"
    }
   ],
   "source": [
    "# lasso logistic model with no interactions\n",
    "loglasso = sklearn.linear_model.LogisticRegressionCV(\n",
    "    cv=5,\n",
    "    random_state=RANDOM_STATE, \n",
    "    penalty='l1', \n",
    "    solver='liblinear',\n",
    "    max_iter=1000\n",
    ").fit(X_train, y_train)\n",
    "\n",
    "loglasso.score(X_val, y_val)"
   ]
  },
  {
   "cell_type": "code",
   "execution_count": null,
   "metadata": {},
   "outputs": [
    {
     "data": {
      "text/plain": [
       "array([[ 0.34551073, -0.7710643 , -0.32557168, -0.77609551, -0.70529487,\n",
       "         0.14356044, -0.23835024,  0.01854565, -0.53042108]])"
      ]
     },
     "execution_count": 55,
     "metadata": {},
     "output_type": "execute_result"
    }
   ],
   "source": [
    "loglasso.coef_"
   ]
  },
  {
   "cell_type": "code",
   "execution_count": null,
   "metadata": {},
   "outputs": [
    {
     "name": "stdout",
     "output_type": "stream",
     "text": [
      "Used features:\n",
      "['Pr1' 'Pr2' 'Pr3' 'FA1' 'FA2' 'FA3' 'FI1' 'FI2' 'FI3']\n"
     ]
    }
   ],
   "source": [
    "print(f'Used features:\\n{data_exp.columns[loglasso.coef_.nonzero()[-1]].to_numpy()}')"
   ]
  },
  {
   "cell_type": "code",
   "execution_count": null,
   "metadata": {},
   "outputs": [
    {
     "data": {
      "text/plain": [
       "0.8208955223880597"
      ]
     },
     "execution_count": 57,
     "metadata": {},
     "output_type": "execute_result"
    }
   ],
   "source": [
    "# lasso logistic model with interactions\n",
    "loglasso_exp = sklearn.linear_model.LogisticRegressionCV(\n",
    "    cv=5,\n",
    "    random_state=RANDOM_STATE, \n",
    "    penalty='l1', \n",
    "    solver='liblinear',\n",
    "    max_iter=10000\n",
    ").fit(X_exp_train, y_exp_train)\n",
    "\n",
    "loglasso_exp.score(X_exp_val, y_exp_val)"
   ]
  },
  {
   "cell_type": "code",
   "execution_count": null,
   "metadata": {},
   "outputs": [
    {
     "data": {
      "text/plain": [
       "array([[ 0.39602845, -0.1284921 ,  0.        , -1.00973356, -0.20137843,\n",
       "         0.5125152 , -0.14046987,  0.45907492,  0.        ,  0.        ,\n",
       "         0.4720242 , -0.5441529 , -0.77596032,  0.        ,  0.22291391,\n",
       "        -0.89326129,  0.        ,  0.        , -0.02781083, -0.46856733,\n",
       "        -0.43026883]])"
      ]
     },
     "execution_count": 58,
     "metadata": {},
     "output_type": "execute_result"
    }
   ],
   "source": [
    "loglasso_exp.coef_"
   ]
  },
  {
   "cell_type": "code",
   "execution_count": null,
   "metadata": {},
   "outputs": [
    {
     "name": "stdout",
     "output_type": "stream",
     "text": [
      "Used features:\n",
      "['Pr1' 'Pr2' 'FA1' 'FA2' 'FA3' 'FI1' 'FI2' 'Pr1.Pr2' 'Pr1.Pr3' 'Pr2.Pr3'\n",
      " 'FA1.FA2' 'FA1.FA3' 'FI1.FI2' 'FI1.FI3' 'FI2.FI3']\n"
     ]
    }
   ],
   "source": [
    "print(f'Used features:\\n{data_exp.columns[loglasso_exp.coef_.nonzero()[-1]].to_numpy()}')"
   ]
  },
  {
   "cell_type": "code",
   "execution_count": null,
   "metadata": {},
   "outputs": [],
   "source": [
    "# ridge regression\n",
    "logr = LogisticRegression(penalty='l2',random_state=RANDOM_STATE)\n",
    "rfe = RFE(estimator=logr, n_features_to_select=5, step=1)\n",
    "X_train_5 = rfe.fit_transform(X_train, y_train)"
   ]
  },
  {
   "cell_type": "code",
   "execution_count": null,
   "metadata": {},
   "outputs": [
    {
     "data": {
      "text/plain": [
       "0.8059701492537313"
      ]
     },
     "execution_count": 61,
     "metadata": {},
     "output_type": "execute_result"
    }
   ],
   "source": [
    "X_val_5 = rfe.transform(X_val)\n",
    "logr_5 = LogisticRegression(penalty='l2', random_state=RANDOM_STATE).fit(X_train_5, y_train)\n",
    "logr_5.score(X_val_5, y_val)"
   ]
  },
  {
   "cell_type": "code",
   "execution_count": null,
   "metadata": {},
   "outputs": [],
   "source": [
    "from sklearn.model_selection import GridSearchCV\n",
    "from sklearn.ensemble import RandomForestClassifier\n",
    "from sklearn.tree import DecisionTreeClassifier\n",
    "from sklearn.svm import SVC"
   ]
  },
  {
   "cell_type": "code",
   "execution_count": null,
   "metadata": {},
   "outputs": [
    {
     "data": {
      "text/plain": [
       "0.8208955223880597"
      ]
     },
     "execution_count": 63,
     "metadata": {},
     "output_type": "execute_result"
    }
   ],
   "source": [
    "random_forest_params =  {\n",
    "        'n_estimators': [1, 2, 5, 10],\n",
    "        'max_depth': [1, 2, 3],\n",
    "        'random_state': [RANDOM_STATE],\n",
    "    }\n",
    "model = RandomForestClassifier()\n",
    "random_forest = GridSearchCV(model, random_forest_params)\n",
    "random_forest.fit(X_train, y_train)\n",
    "random_forest.score(X_val, y_val)"
   ]
  }
 ],
 "metadata": {
  "kernelspec": {
   "display_name": "Python 3.9.7 ('env')",
   "language": "python",
   "name": "python3"
  },
  "language_info": {
   "codemirror_mode": {
    "name": "ipython",
    "version": 3
   },
   "file_extension": ".py",
   "mimetype": "text/x-python",
   "name": "python",
   "nbconvert_exporter": "python",
   "pygments_lexer": "ipython3",
   "version": "3.9.7"
  },
  "orig_nbformat": 4,
  "vscode": {
   "interpreter": {
    "hash": "bd014cc4e5429353d7b878851ecdc46528d411a2d3ddf6baad2dcafbff2ad3e4"
   }
  }
 },
 "nbformat": 4,
 "nbformat_minor": 2
}
