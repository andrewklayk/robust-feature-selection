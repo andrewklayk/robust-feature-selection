{
 "cells": [
  {
   "cell_type": "code",
   "execution_count": 32,
   "metadata": {},
   "outputs": [],
   "source": [
    "import os\n",
    "\n",
    "import numpy as np\n",
    "import pandas as pd\n",
    "import sklearn\n",
    "from sklearn.linear_model import LogisticRegression\n",
    "from sklearn.model_selection import train_test_split\n",
    "from sklearn.feature_selection import RFE, chi2, SelectPercentile, SelectKBest, mutual_info_classif\n",
    "from sklearn.preprocessing import StandardScaler\n",
    "from sklearn.base import clone\n",
    "from sklearn.ensemble import RandomForestClassifier\n",
    "from sklearn.pipeline import Pipeline\n",
    "from sklearn.compose import ColumnTransformer, make_column_selector\n",
    "\n",
    "# %matplotlib ipympl\n",
    "import matplotlib.pyplot as plt\n",
    "# import matplotlib as mpl\n",
    "\n",
    "# import seaborn as sns"
   ]
  },
  {
   "cell_type": "code",
   "execution_count": 33,
   "metadata": {},
   "outputs": [],
   "source": [
    "# set some constants\n",
    "RANDOM_STATE=42\n",
    "TESTSIZE = 0.2\n",
    "VALSIZE = 0.2\n",
    "# number of features to select\n",
    "NUMFEATURES = 5\n",
    "# or a top percentile of features by importance to select\n",
    "PERCFEATURES = 20\n",
    "# name of the target columns\n",
    "TARGET = 'CONDITION'"
   ]
  },
  {
   "cell_type": "code",
   "execution_count": 34,
   "metadata": {},
   "outputs": [],
   "source": [
    "def load_datasets():\n",
    "    datasets = []\n",
    "    dataset_names = []\n",
    "    for filename in os.listdir('data'):\n",
    "        path = os.path.join('data', filename)\n",
    "        datasets.append(pd.read_csv(path))\n",
    "        dname = filename.split('.')[0]\n",
    "        dataset_names.append(dname)\n",
    "        print(f\"Loaded {filename} as {dname}\")\n",
    "    return datasets, dataset_names"
   ]
  },
  {
   "cell_type": "code",
   "execution_count": 35,
   "metadata": {},
   "outputs": [
    {
     "name": "stdout",
     "output_type": "stream",
     "text": [
      "Loaded IADQ_df.csv as IADQ_df\n",
      "Loaded PRMQ_df.csv as PRMQ_df\n",
      "Loaded RAW_DDDT.CSV as RAW_DDDT\n"
     ]
    }
   ],
   "source": [
    "datasets, dataset_names = load_datasets()"
   ]
  },
  {
   "cell_type": "code",
   "execution_count": 36,
   "metadata": {},
   "outputs": [],
   "source": [
    "rawdata = datasets[1]"
   ]
  },
  {
   "cell_type": "code",
   "execution_count": 37,
   "metadata": {},
   "outputs": [],
   "source": [
    "if rawdata.isnull().values.any():\n",
    "    raise Exception('Null values in data')"
   ]
  },
  {
   "cell_type": "code",
   "execution_count": 38,
   "metadata": {},
   "outputs": [],
   "source": [
    "# probably not used anymore but i spent too much time on this to delete it \n",
    "# also looks cool so idc\n",
    "\n",
    "from itertools import combinations\n",
    "\n",
    "def gen_interaction_combinations(\n",
    "    col_names: list[str],\n",
    "    max_order,\n",
    ") -> list[tuple[str]]:\n",
    "    \"\"\"\n",
    "    Generate all possible combinations of orders [1,...,max_order].\\n\n",
    "    Used to add interactions to the data.\n",
    "    \"\"\"\n",
    "    res = []\n",
    "    for order in range(1,max_order):\n",
    "        res.append(list(combinations(col_names, order + 1)))\n",
    "    return res\n",
    "\n",
    "def calc_interaction(\n",
    "    data: pd.DataFrame, \n",
    "    cols: list\n",
    ") -> pd.Series:\n",
    "    \"\"\" \n",
    "    Multiply specified columns of a dataframe.\\n\n",
    "    Returns a new series.\n",
    "    \"\"\"\n",
    "    res = pd.Series(data=np.ones(data.shape[0]))\n",
    "    for c in cols:\n",
    "        res *= data[c]\n",
    "    return res\n",
    "\n",
    "def add_interactions(\n",
    "    df: pd.DataFrame,\n",
    "    col_names: list[str],\n",
    "    max_order: int = 0\n",
    ") -> pd.DataFrame:\n",
    "    \"\"\"\n",
    "    Add all possible interactions between specified columns up to some order.\\n\n",
    "    \"\"\"\n",
    "    res = df.copy()\n",
    "\n",
    "    assert max_order >= 0\n",
    "    if max_order == 0:\n",
    "        max_order = len(col_names)\n",
    "        \n",
    "    if max_order == 1:\n",
    "        return res\n",
    "\n",
    "    all_ints = gen_interaction_combinations(col_names=col_names, max_order=max_order)\n",
    "    for ints_ord_i in all_ints:\n",
    "        for inter in ints_ord_i:\n",
    "            new_col = calc_interaction(df,inter)\n",
    "            res['.'.join(map(str,inter))] = new_col\n",
    "    return res"
   ]
  },
  {
   "cell_type": "markdown",
   "metadata": {},
   "source": [
    "Preprocessing"
   ]
  },
  {
   "cell_type": "code",
   "execution_count": 39,
   "metadata": {},
   "outputs": [],
   "source": [
    "def separate_target(data:np.ndarray, target_ind:int):\n",
    "    return data[:,:target_ind], data[:,target_ind]\n",
    "\n",
    "def check_split_integrity(\n",
    "    data: pd.DataFrame,\n",
    "    x_train: np.ndarray,\n",
    "    x_val: np.ndarray, \n",
    "    x_test: np.ndarray,\n",
    "    train_size: float = 1-VALSIZE-TESTSIZE, \n",
    "    val_size: float = VALSIZE, \n",
    "    test_size: float = TESTSIZE\n",
    "    ):\n",
    "    assert x_train.shape[1] == data.shape[1] - 1\n",
    "    assert x_val.shape[1] == data.shape[1] - 1\n",
    "    assert x_test.shape[1] == data.shape[1] - 1\n",
    "\n",
    "    assert x_train.shape[0] + x_val.shape[0] + x_test.shape[0] == data.shape[0]\n",
    "    assert abs(x_train.shape[0] - int(train_size*data.shape[0])) <= 1\n",
    "    assert abs(x_val.shape[0] - int(val_size*data.shape[0])) <= 1\n",
    "    assert abs(x_test.shape[0] - int(test_size*data.shape[0])) <= 1\n",
    "\n",
    "    return\n"
   ]
  },
  {
   "cell_type": "code",
   "execution_count": 40,
   "metadata": {},
   "outputs": [],
   "source": [
    "def preprocess(\n",
    "    data: pd.DataFrame, \n",
    "    target_column: str,\n",
    "    val_size: float=VALSIZE, \n",
    "    test_size: float=TESTSIZE, \n",
    "    random_state: float=RANDOM_STATE,\n",
    "    scale: bool=False,\n",
    "    center: bool=False\n",
    "):\n",
    "    \"\"\"\n",
    "    Function that combines all preprocessing steps.\\n\n",
    "    Returns the training, validation and test sets as numpy arrays.\\n\n",
    "    In our case, preserves column structure (doesn't necessarily in the general case though).\\n\n",
    "    \"\"\"\n",
    "    data_trainval, data_test = train_test_split(data, test_size=test_size,random_state=random_state, stratify=data[target_column])\n",
    "    data_train, data_val = train_test_split(data_trainval, test_size=val_size/(1-test_size),random_state=random_state, stratify=data_trainval[target_column])\n",
    "    predictors_pipeline = Pipeline(steps=[\n",
    "        ('scale_numerics', StandardScaler(with_mean=center, with_std=scale))\n",
    "    ])\n",
    "    target_pipeline = Pipeline(steps=[\n",
    "        ('encode_target', sklearn.preprocessing.OrdinalEncoder())\n",
    "    ])\n",
    "    preprocessor = ColumnTransformer([\n",
    "        ('predictors', predictors_pipeline, data.columns[data.columns != target_column]),\n",
    "        ('target', target_pipeline, [target_column])\n",
    "    ], remainder='passthrough')\n",
    "\n",
    "    data_train_pr = preprocessor.fit_transform(data_train)\n",
    "    data_val_pr = preprocessor.transform(data_val)\n",
    "    data_test_pr = preprocessor.transform(data_test)\n",
    "\n",
    "    # x_train = data_train_pr[:,:target_column_ind]\n",
    "    # y_train = data_train_pr[target_column_ind]\n",
    "    # x_val = data_val_pr[:,:target_column_ind]\n",
    "    # y_val = data_val_pr[target_column_ind]\n",
    "    # x_test = data_test_pr[:,:target_column_ind]\n",
    "    # y_test = data_test_pr[target_column_ind]\n",
    "    # feature_names = preprocessor.get_feature_names_out()\n",
    "    # data_train_pr = pd.DataFrame(data_train_pr, columns=feature_names)\n",
    "    # data_val_pr = pd.DataFrame(data_val_pr, columns=feature_names)\n",
    "    # data_test_pr = pd.DataFrame(data_test_pr, columns=feature_names)\n",
    "\n",
    "    return data_train_pr, data_val_pr, data_test_pr\n",
    "# X_train, y_train = separate_target(data_train_pr, target_col)\n",
    "# X_val, y_val = separate_target(data_val_pr, target_col)\n",
    "# X_test, y_test = separate_target(data_test_pr, target_col)\n"
   ]
  },
  {
   "cell_type": "code",
   "execution_count": 41,
   "metadata": {},
   "outputs": [],
   "source": [
    "train, val, test = preprocess(rawdata, TARGET)\n",
    "\n",
    "target_column_ind = rawdata.columns.get_loc(TARGET)\n",
    "\n",
    "X_train, y_train = separate_target(train, target_column_ind)\n",
    "X_val, y_val = separate_target(val, target_column_ind)\n",
    "X_test, y_test = separate_target(test, target_column_ind)\n",
    "check_split_integrity(rawdata, X_train, X_val, X_test)"
   ]
  },
  {
   "cell_type": "markdown",
   "metadata": {},
   "source": [
    "Exploration"
   ]
  },
  {
   "cell_type": "code",
   "execution_count": 42,
   "metadata": {},
   "outputs": [],
   "source": [
    "df_train = pd.DataFrame(train, columns=rawdata.columns)"
   ]
  },
  {
   "cell_type": "code",
   "execution_count": 43,
   "metadata": {},
   "outputs": [],
   "source": [
    "honest = df_train[df_train[TARGET] == 1]\n",
    "dishonest = df_train[df_train[TARGET] == 0]"
   ]
  },
  {
   "cell_type": "code",
   "execution_count": 44,
   "metadata": {},
   "outputs": [
    {
     "data": {
      "text/html": [
       "<div>\n",
       "<style scoped>\n",
       "    .dataframe tbody tr th:only-of-type {\n",
       "        vertical-align: middle;\n",
       "    }\n",
       "\n",
       "    .dataframe tbody tr th {\n",
       "        vertical-align: top;\n",
       "    }\n",
       "\n",
       "    .dataframe thead th {\n",
       "        text-align: right;\n",
       "    }\n",
       "</style>\n",
       "<table border=\"1\" class=\"dataframe\">\n",
       "  <thead>\n",
       "    <tr style=\"text-align: right;\">\n",
       "      <th></th>\n",
       "      <th>H</th>\n",
       "      <th>D</th>\n",
       "    </tr>\n",
       "  </thead>\n",
       "  <tbody>\n",
       "    <tr>\n",
       "      <th>PRMQ_PR_SH_CU1</th>\n",
       "      <td>2.676960</td>\n",
       "      <td>4.038005</td>\n",
       "    </tr>\n",
       "    <tr>\n",
       "      <th>PRMQ_RE _LO_ENV2</th>\n",
       "      <td>1.722090</td>\n",
       "      <td>4.102138</td>\n",
       "    </tr>\n",
       "    <tr>\n",
       "      <th>PRMQ_PR_SH_ENV3</th>\n",
       "      <td>2.313539</td>\n",
       "      <td>4.040380</td>\n",
       "    </tr>\n",
       "    <tr>\n",
       "      <th>PRMQ_RE_SH_CU4</th>\n",
       "      <td>2.634204</td>\n",
       "      <td>4.097387</td>\n",
       "    </tr>\n",
       "    <tr>\n",
       "      <th>PRMQ_PR_LO_CU5</th>\n",
       "      <td>2.427553</td>\n",
       "      <td>4.111639</td>\n",
       "    </tr>\n",
       "    <tr>\n",
       "      <th>PRMQ_RE_SH_ENV6</th>\n",
       "      <td>2.028504</td>\n",
       "      <td>3.980998</td>\n",
       "    </tr>\n",
       "    <tr>\n",
       "      <th>PRMQ_PR_LO_ENV7</th>\n",
       "      <td>2.477435</td>\n",
       "      <td>4.000000</td>\n",
       "    </tr>\n",
       "    <tr>\n",
       "      <th>PRMQ_RE_LO_CU8</th>\n",
       "      <td>2.111639</td>\n",
       "      <td>4.118765</td>\n",
       "    </tr>\n",
       "    <tr>\n",
       "      <th>PRMQ_RE_LO_ENV9</th>\n",
       "      <td>2.750594</td>\n",
       "      <td>3.995249</td>\n",
       "    </tr>\n",
       "    <tr>\n",
       "      <th>PRMQ_PR_SH_ENV10</th>\n",
       "      <td>2.888361</td>\n",
       "      <td>3.966746</td>\n",
       "    </tr>\n",
       "    <tr>\n",
       "      <th>PRMQ _RE_SH_CU11</th>\n",
       "      <td>2.961995</td>\n",
       "      <td>3.971496</td>\n",
       "    </tr>\n",
       "    <tr>\n",
       "      <th>PRMQ_PR_LO_ENV12</th>\n",
       "      <td>2.517815</td>\n",
       "      <td>3.947743</td>\n",
       "    </tr>\n",
       "    <tr>\n",
       "      <th>PRMQ _RE_SH_ENV13</th>\n",
       "      <td>2.011876</td>\n",
       "      <td>3.990499</td>\n",
       "    </tr>\n",
       "    <tr>\n",
       "      <th>PRMQ _PR_LO_CU14</th>\n",
       "      <td>2.555819</td>\n",
       "      <td>3.931116</td>\n",
       "    </tr>\n",
       "    <tr>\n",
       "      <th>PRMQ_RE_LO_CU15</th>\n",
       "      <td>2.223278</td>\n",
       "      <td>4.059382</td>\n",
       "    </tr>\n",
       "    <tr>\n",
       "      <th>PRMQ_PR_SH_CU16</th>\n",
       "      <td>2.757720</td>\n",
       "      <td>4.028504</td>\n",
       "    </tr>\n",
       "    <tr>\n",
       "      <th>CONDITION</th>\n",
       "      <td>1.000000</td>\n",
       "      <td>0.000000</td>\n",
       "    </tr>\n",
       "  </tbody>\n",
       "</table>\n",
       "</div>"
      ],
      "text/plain": [
       "                          H         D\n",
       "PRMQ_PR_SH_CU1     2.676960  4.038005\n",
       "PRMQ_RE _LO_ENV2   1.722090  4.102138\n",
       " PRMQ_PR_SH_ENV3   2.313539  4.040380\n",
       "PRMQ_RE_SH_CU4     2.634204  4.097387\n",
       "PRMQ_PR_LO_CU5     2.427553  4.111639\n",
       "PRMQ_RE_SH_ENV6    2.028504  3.980998\n",
       "PRMQ_PR_LO_ENV7    2.477435  4.000000\n",
       "PRMQ_RE_LO_CU8     2.111639  4.118765\n",
       "PRMQ_RE_LO_ENV9    2.750594  3.995249\n",
       "PRMQ_PR_SH_ENV10   2.888361  3.966746\n",
       "PRMQ _RE_SH_CU11   2.961995  3.971496\n",
       "PRMQ_PR_LO_ENV12   2.517815  3.947743\n",
       "PRMQ _RE_SH_ENV13  2.011876  3.990499\n",
       "PRMQ _PR_LO_CU14   2.555819  3.931116\n",
       "PRMQ_RE_LO_CU15    2.223278  4.059382\n",
       "PRMQ_PR_SH_CU16    2.757720  4.028504\n",
       "CONDITION          1.000000  0.000000"
      ]
     },
     "execution_count": 44,
     "metadata": {},
     "output_type": "execute_result"
    }
   ],
   "source": [
    "mean_h = pd.Series(df_train[df_train[TARGET]==1].mean(),name='H')\n",
    "mean_d = pd.Series(df_train[df_train[TARGET]==0].mean(),name='D')\n",
    "means = pd.concat([mean_h,mean_d],axis=1)\n",
    "means"
   ]
  },
  {
   "cell_type": "code",
   "execution_count": 45,
   "metadata": {},
   "outputs": [
    {
     "data": {
      "text/html": [
       "<div>\n",
       "<style scoped>\n",
       "    .dataframe tbody tr th:only-of-type {\n",
       "        vertical-align: middle;\n",
       "    }\n",
       "\n",
       "    .dataframe tbody tr th {\n",
       "        vertical-align: top;\n",
       "    }\n",
       "\n",
       "    .dataframe thead th {\n",
       "        text-align: right;\n",
       "    }\n",
       "</style>\n",
       "<table border=\"1\" class=\"dataframe\">\n",
       "  <thead>\n",
       "    <tr style=\"text-align: right;\">\n",
       "      <th></th>\n",
       "      <th>H</th>\n",
       "      <th>D</th>\n",
       "    </tr>\n",
       "  </thead>\n",
       "  <tbody>\n",
       "    <tr>\n",
       "      <th>PRMQ_PR_SH_CU1</th>\n",
       "      <td>1.088978</td>\n",
       "      <td>1.351711</td>\n",
       "    </tr>\n",
       "    <tr>\n",
       "      <th>PRMQ_RE _LO_ENV2</th>\n",
       "      <td>0.976491</td>\n",
       "      <td>1.199810</td>\n",
       "    </tr>\n",
       "    <tr>\n",
       "      <th>PRMQ_PR_SH_ENV3</th>\n",
       "      <td>1.128223</td>\n",
       "      <td>1.282031</td>\n",
       "    </tr>\n",
       "    <tr>\n",
       "      <th>PRMQ_RE_SH_CU4</th>\n",
       "      <td>1.108052</td>\n",
       "      <td>1.331851</td>\n",
       "    </tr>\n",
       "    <tr>\n",
       "      <th>PRMQ_PR_LO_CU5</th>\n",
       "      <td>1.145426</td>\n",
       "      <td>1.398769</td>\n",
       "    </tr>\n",
       "    <tr>\n",
       "      <th>PRMQ_RE_SH_ENV6</th>\n",
       "      <td>1.186891</td>\n",
       "      <td>1.270403</td>\n",
       "    </tr>\n",
       "    <tr>\n",
       "      <th>PRMQ_PR_LO_ENV7</th>\n",
       "      <td>1.174162</td>\n",
       "      <td>1.339865</td>\n",
       "    </tr>\n",
       "    <tr>\n",
       "      <th>PRMQ_RE_LO_CU8</th>\n",
       "      <td>1.050797</td>\n",
       "      <td>1.307544</td>\n",
       "    </tr>\n",
       "    <tr>\n",
       "      <th>PRMQ_RE_LO_ENV9</th>\n",
       "      <td>1.155538</td>\n",
       "      <td>1.463842</td>\n",
       "    </tr>\n",
       "    <tr>\n",
       "      <th>PRMQ_PR_SH_ENV10</th>\n",
       "      <td>1.125202</td>\n",
       "      <td>1.395174</td>\n",
       "    </tr>\n",
       "    <tr>\n",
       "      <th>PRMQ _RE_SH_CU11</th>\n",
       "      <td>1.178570</td>\n",
       "      <td>1.461944</td>\n",
       "    </tr>\n",
       "    <tr>\n",
       "      <th>PRMQ_PR_LO_ENV12</th>\n",
       "      <td>0.986958</td>\n",
       "      <td>1.344168</td>\n",
       "    </tr>\n",
       "    <tr>\n",
       "      <th>PRMQ _RE_SH_ENV13</th>\n",
       "      <td>1.081160</td>\n",
       "      <td>1.272382</td>\n",
       "    </tr>\n",
       "    <tr>\n",
       "      <th>PRMQ _PR_LO_CU14</th>\n",
       "      <td>1.166944</td>\n",
       "      <td>1.370612</td>\n",
       "    </tr>\n",
       "    <tr>\n",
       "      <th>PRMQ_RE_LO_CU15</th>\n",
       "      <td>1.070171</td>\n",
       "      <td>1.299739</td>\n",
       "    </tr>\n",
       "    <tr>\n",
       "      <th>PRMQ_PR_SH_CU16</th>\n",
       "      <td>1.045725</td>\n",
       "      <td>1.344883</td>\n",
       "    </tr>\n",
       "    <tr>\n",
       "      <th>CONDITION</th>\n",
       "      <td>0.000000</td>\n",
       "      <td>0.000000</td>\n",
       "    </tr>\n",
       "  </tbody>\n",
       "</table>\n",
       "</div>"
      ],
      "text/plain": [
       "                          H         D\n",
       "PRMQ_PR_SH_CU1     1.088978  1.351711\n",
       "PRMQ_RE _LO_ENV2   0.976491  1.199810\n",
       " PRMQ_PR_SH_ENV3   1.128223  1.282031\n",
       "PRMQ_RE_SH_CU4     1.108052  1.331851\n",
       "PRMQ_PR_LO_CU5     1.145426  1.398769\n",
       "PRMQ_RE_SH_ENV6    1.186891  1.270403\n",
       "PRMQ_PR_LO_ENV7    1.174162  1.339865\n",
       "PRMQ_RE_LO_CU8     1.050797  1.307544\n",
       "PRMQ_RE_LO_ENV9    1.155538  1.463842\n",
       "PRMQ_PR_SH_ENV10   1.125202  1.395174\n",
       "PRMQ _RE_SH_CU11   1.178570  1.461944\n",
       "PRMQ_PR_LO_ENV12   0.986958  1.344168\n",
       "PRMQ _RE_SH_ENV13  1.081160  1.272382\n",
       "PRMQ _PR_LO_CU14   1.166944  1.370612\n",
       "PRMQ_RE_LO_CU15    1.070171  1.299739\n",
       "PRMQ_PR_SH_CU16    1.045725  1.344883\n",
       "CONDITION          0.000000  0.000000"
      ]
     },
     "execution_count": 45,
     "metadata": {},
     "output_type": "execute_result"
    }
   ],
   "source": [
    "std_h = pd.Series(df_train[df_train[TARGET]==1].std(),name='H')\n",
    "std_d = pd.Series(df_train[df_train[TARGET]==0].std(),name='D')\n",
    "stds = pd.concat([std_h,std_d],axis=1)\n",
    "stds"
   ]
  },
  {
   "cell_type": "code",
   "execution_count": 46,
   "metadata": {},
   "outputs": [],
   "source": [
    "selector = SelectKBest(score_func=chi2, k=2)\n",
    "X_t = selector.fit_transform(X_train,y_train)\n",
    "num_pts = np.zeros(shape=(5,5))\n",
    "for pt,y in zip(X_t,y_train):\n",
    "    num_pts[int(pt[0]-1),int(pt[1]-1)] += 1 if y == 1 else 0\n",
    "\n",
    "# ax = plt.figure().add_subplot()\n",
    "# for i,j in zip(np.tile(np.arange(1,6),5), np.repeat(np.arange(1,6),5)):\n",
    "#     ax.scatter(x=i, y=j,c=num_pts[i-1,j-1], cmap='hot', norm=plt.Normalize(num_pts.min(),num_pts.max()))  "
   ]
  },
  {
   "cell_type": "code",
   "execution_count": 117,
   "metadata": {},
   "outputs": [],
   "source": [
    "def plot_feature_importances(X, y, feature_names=None, score_func=chi2):\n",
    "    selector = SelectPercentile(score_func=score_func, percentile=PERCFEATURES)\n",
    "    selector.fit(X, y)\n",
    "    plt.bar(df_train.columns[:-1], selector.scores_)\n",
    "    plt.title(f'Feature importance with {score_func.__name__}')\n",
    "    plt.ylabel('scores')\n",
    "    plt.xlabel('features')\n",
    "    plt.xticks(rotation=45,ha='right')\n",
    "    plt.show()\n",
    "\n",
    "    return\n",
    "\n",
    "def plot_top_features(X, y, k, feature_names_in, score_func):\n",
    "\n",
    "    assert np.shape(X)[0] == np.shape(y)[0]\n",
    "\n",
    "    selector = SelectKBest(score_func=score_func, k=k)\n",
    "    X_t = selector.fit_transform(X,y)\n",
    "    fnames = selector.get_feature_names_out(input_features=feature_names_in)\n",
    "    if k == 1:\n",
    "        ax = plt.figure().add_subplot(projection='1d')\n",
    "        ax.scatter(xs=X_t, c=['tab:orange' if cl == 1 else 'tab:blue' for cl in y],alpha=0.05)\n",
    "        ax.set_xlabel(fnames[0])\n",
    "    if k == 2:\n",
    "        ax = plt.figure().add_subplot()\n",
    "        # ax.hist2d(x=X_t[:,0],y=X_t[:,1],bins=np.arange(1,6))\n",
    "        ax.scatter(x=X_t[:,0],y=X_t[:,1], c=['tab:orange' if cl == 1 else 'tab:blue' for cl in y],alpha=0.05)\n",
    "        ax.set_xlabel(fnames[0])\n",
    "        ax.set_ylabel(fnames[1])\n",
    "    if k == 3:\n",
    "        ax = plt.figure().add_subplot(projection='3d')\n",
    "        ax.scatter(xs=X_t[:,0],ys=X_t[:,1],zs=X_t[:,2], c=['tab:orange' if cl == 1 else 'tab:blue' for cl in y],alpha=0.1)\n",
    "        ax.set_xlabel(fnames[0])\n",
    "        ax.set_ylabel(fnames[1])\n",
    "        ax.set_zlabel(fnames[2])\n",
    "        ax.view_init(elev=28, azim=-47)\n",
    "    \n",
    "    legend_props = [mpl.lines.Line2D([0],[0], marker='o',color='tab:orange'),\n",
    "                    mpl.lines.Line2D([0],[0], marker='o',color='tab:blue')]\n",
    "    ax.legend(legend_props, ['Honest','Dishonest'],bbox_to_anchor=(1,0.95))\n",
    "    return ax"
   ]
  },
  {
   "cell_type": "code",
   "execution_count": 120,
   "metadata": {},
   "outputs": [
    {
     "data": {
      "text/plain": [
       "Text(0.5, 1.0, 'Top-3 features for PRMQ by LogLasso coefficients')"
      ]
     },
     "execution_count": 120,
     "metadata": {},
     "output_type": "execute_result"
    },
    {
     "data": {
      "application/vnd.jupyter.widget-view+json": {
       "model_id": "dd3ee8f914644c0f8af1ba3debac9ee7",
       "version_major": 2,
       "version_minor": 0
      },
      "image/png": "[encoded data removed]",
      "text/html": [
       "\n",
       "            <div style=\"display: inline-block;\">\n",
       "                <div class=\"jupyter-widgets widget-label\" style=\"text-align: center;\">\n",
       "                    Figure\n",
       "                </div>\n",
       "                <img src='data:image/png;base64,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' width=640.0/>\n",
       "            </div>\n",
       "        "
      ],
      "text/plain": [
       "Canvas(toolbar=Toolbar(toolitems=[('Home', 'Reset original view', 'home', 'home'), ('Back', 'Back to previous …"
      ]
     },
     "metadata": {},
     "output_type": "display_data"
    }
   ],
   "source": [
    "ax = plot_top_features(X_train, y_train, 3, rawdata.columns[:-1],score_func=loglasso_coefs)\n",
    "ax.set_title('Top-3 features for PRMQ by LogLasso coefficients')"
   ]
  },
  {
   "cell_type": "code",
   "execution_count": 49,
   "metadata": {},
   "outputs": [
    {
     "data": {
      "application/vnd.jupyter.widget-view+json": {
       "model_id": "936214ef42cb449c85f0e605d8b7cdc4",
       "version_major": 2,
       "version_minor": 0
      },
      "image/png": "[encoded data removed]",
      "text/html": [
       "\n",
       "            <div style=\"display: inline-block;\">\n",
       "                <div class=\"jupyter-widgets widget-label\" style=\"text-align: center;\">\n",
       "                    Figure 2\n",
       "                </div>\n",
       "                <img src='data:image/png;base64,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' width=640.0/>\n",
       "            </div>\n",
       "        "
      ],
      "text/plain": [
       "Canvas(toolbar=Toolbar(toolitems=[('Home', 'Reset original view', 'home', 'home'), ('Back', 'Back to previous …"
      ]
     },
     "metadata": {},
     "output_type": "display_data"
    }
   ],
   "source": [
    "plot_feature_importances(X_train,y_train,score_func=chi2)"
   ]
  },
  {
   "cell_type": "code",
   "execution_count": 50,
   "metadata": {},
   "outputs": [
    {
     "data": {
      "application/vnd.jupyter.widget-view+json": {
       "model_id": "936214ef42cb449c85f0e605d8b7cdc4",
       "version_major": 2,
       "version_minor": 0
      },
      "image/png": "[encoded data removed]",
      "text/html": [
       "\n",
       "            <div style=\"display: inline-block;\">\n",
       "                <div class=\"jupyter-widgets widget-label\" style=\"text-align: center;\">\n",
       "                    Figure 2\n",
       "                </div>\n",
       "                <img src='data:image/png;base64,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' width=640.0/>\n",
       "            </div>\n",
       "        "
      ],
      "text/plain": [
       "Canvas(toolbar=Toolbar(toolitems=[('Home', 'Reset original view', 'home', 'home'), ('Back', 'Back to previous …"
      ]
     },
     "metadata": {},
     "output_type": "display_data"
    }
   ],
   "source": [
    "plot_feature_importances(X_train,y_train,score_func=mutual_info_classif)"
   ]
  },
  {
   "cell_type": "code",
   "execution_count": 51,
   "metadata": {},
   "outputs": [],
   "source": [
    "def eval_subsets(\n",
    "    X_train, \n",
    "    y_train, \n",
    "    X_val, \n",
    "    y_val, \n",
    "    models: list,\n",
    "    model_names: list[str],\n",
    "    feature_names: list[str]=None,\n",
    "    percentiles: list=[5, 10, 30, 50, 80, 100], \n",
    "    feature_select_func: callable=chi2\n",
    "):  \n",
    "    \"\"\"\n",
    "    Evaluate a range of models on a range of reduced features.\\n\n",
    "    Feature importances can be calculated with `feature_select_func`.\n",
    "    \"\"\"\n",
    "    # full_scores = []\n",
    "    reduced_scores = pd.DataFrame(columns=percentiles,index=model_names)\n",
    "    features = dict()\n",
    "    # for model in models:\n",
    "    #     #model_reduced_scores = pd.DataFrame(index=['Model', 'Percentile'])\n",
    "    #     model_full = clone(model)\n",
    "    #     model_full.fit(X_train, y_train)\n",
    "    #     full_score = model_full.score(X_val, y_val)\n",
    "    #     full_scores.append(full_score)\n",
    "    for (model,mname) in zip(models,model_names):\n",
    "        model_reduced = clone(model)\n",
    "        model_reduced_scores = dict()\n",
    "        for percentile in percentiles:\n",
    "            # reduce the set\n",
    "            selector = SelectPercentile(score_func=feature_select_func, percentile=percentile)\n",
    "            selector.fit(X_train, y_train)\n",
    "            features[percentile] = selector.get_feature_names_out(input_features=feature_names)\n",
    "            X_train_red = selector.transform(X_train)\n",
    "            X_val_red = selector.transform(X_val)\n",
    "            model_reduced.fit(X_train_red, y_train)\n",
    "            reduced_score = model_reduced.score(X_val_red, y_val)\n",
    "            model_reduced_scores[percentile] = reduced_score\n",
    "        reduced_scores.loc[mname] = model_reduced_scores\n",
    "        #reduced_scores.append(model_reduced_scores)\n",
    "    return pd.DataFrame(reduced_scores), features\n"
   ]
  },
  {
   "cell_type": "code",
   "execution_count": 52,
   "metadata": {},
   "outputs": [],
   "source": [
    "def eval_for_each_dataset(\n",
    "    datasets,\n",
    "    dataset_names,\n",
    "    models,\n",
    "    model_names,\n",
    "    percentiles = [5, 10, 30, 50, 80, 100],\n",
    "    feature_select_func=chi2\n",
    "):\n",
    "    \"\"\"\n",
    "    Wrapper function that applies `eval_subsets` to several datasets and gives the result in a neat dataframe.\n",
    "    \"\"\"\n",
    "\n",
    "    scores = pd.DataFrame(index=pd.MultiIndex.from_product([dataset_names, model_names]), columns=percentiles)\n",
    "    features = dict()\n",
    "\n",
    "    for dataset, dname in zip(datasets, dataset_names):\n",
    "        train, val, test = preprocess(dataset, TARGET)\n",
    "        target_col_ind = dataset.columns.get_loc(TARGET)\n",
    "        X_train, y_train = separate_target(train,target_col_ind)\n",
    "        X_val, y_val = separate_target(val,target_col_ind)\n",
    "        X_test, _ = separate_target(test,target_col_ind)\n",
    "        check_split_integrity(dataset, X_train, X_val, X_test)\n",
    "        feature_names = dataset.columns[dataset.columns != TARGET]\n",
    "        dataset_scores, dataset_features = eval_subsets(\n",
    "            X_train, y_train, X_val, y_val, models, model_names=model_names,feature_names=feature_names, percentiles=percentiles, feature_select_func=feature_select_func\n",
    "        )\n",
    "        scores.loc[dname] = np.array(dataset_scores)\n",
    "        features[dname] = dataset_features\n",
    "    return scores, features\n"
   ]
  },
  {
   "cell_type": "code",
   "execution_count": 53,
   "metadata": {},
   "outputs": [],
   "source": [
    "models = [\n",
    "    sklearn.svm.SVC(kernel='linear', random_state=RANDOM_STATE),\n",
    "    RandomForestClassifier(random_state=RANDOM_STATE)\n",
    "]\n",
    "model_names = [\n",
    "    'SVC',\n",
    "    'Random Forest'\n",
    "]\n",
    "percentiles = [5, 10, 30, 50, 80, 100]"
   ]
  },
  {
   "cell_type": "code",
   "execution_count": 54,
   "metadata": {},
   "outputs": [],
   "source": [
    "scores_chi2, features_chi2 = eval_subsets(X_train, y_train, X_val, y_val, models=models, model_names=model_names, percentiles=percentiles)"
   ]
  },
  {
   "cell_type": "code",
   "execution_count": 55,
   "metadata": {},
   "outputs": [
    {
     "data": {
      "text/html": [
       "<div>\n",
       "<style scoped>\n",
       "    .dataframe tbody tr th:only-of-type {\n",
       "        vertical-align: middle;\n",
       "    }\n",
       "\n",
       "    .dataframe tbody tr th {\n",
       "        vertical-align: top;\n",
       "    }\n",
       "\n",
       "    .dataframe thead th {\n",
       "        text-align: right;\n",
       "    }\n",
       "</style>\n",
       "<table border=\"1\" class=\"dataframe\">\n",
       "  <thead>\n",
       "    <tr style=\"text-align: right;\">\n",
       "      <th></th>\n",
       "      <th>5</th>\n",
       "      <th>10</th>\n",
       "      <th>30</th>\n",
       "      <th>50</th>\n",
       "      <th>80</th>\n",
       "      <th>100</th>\n",
       "    </tr>\n",
       "  </thead>\n",
       "  <tbody>\n",
       "    <tr>\n",
       "      <th>SVC</th>\n",
       "      <td>0.829181</td>\n",
       "      <td>0.88968</td>\n",
       "      <td>0.875445</td>\n",
       "      <td>0.879004</td>\n",
       "      <td>0.875445</td>\n",
       "      <td>0.900356</td>\n",
       "    </tr>\n",
       "    <tr>\n",
       "      <th>Random Forest</th>\n",
       "      <td>0.829181</td>\n",
       "      <td>0.886121</td>\n",
       "      <td>0.882562</td>\n",
       "      <td>0.907473</td>\n",
       "      <td>0.928826</td>\n",
       "      <td>0.921708</td>\n",
       "    </tr>\n",
       "  </tbody>\n",
       "</table>\n",
       "</div>"
      ],
      "text/plain": [
       "                    5         10        30        50        80        100\n",
       "SVC            0.829181   0.88968  0.875445  0.879004  0.875445  0.900356\n",
       "Random Forest  0.829181  0.886121  0.882562  0.907473  0.928826  0.921708"
      ]
     },
     "execution_count": 55,
     "metadata": {},
     "output_type": "execute_result"
    }
   ],
   "source": [
    "scores_chi2"
   ]
  },
  {
   "cell_type": "code",
   "execution_count": 56,
   "metadata": {},
   "outputs": [],
   "source": [
    "scores_mi, features_mi = eval_subsets(X_train, y_train, X_val, y_val, models=models, model_names=model_names, percentiles=percentiles, feature_select_func=mutual_info_classif)"
   ]
  },
  {
   "cell_type": "code",
   "execution_count": 57,
   "metadata": {},
   "outputs": [],
   "source": [
    "scores_chi2_all, features_chi2_all = eval_for_each_dataset(datasets=datasets,dataset_names=dataset_names, models=models,model_names=model_names, percentiles=percentiles)"
   ]
  },
  {
   "cell_type": "code",
   "execution_count": 58,
   "metadata": {},
   "outputs": [
    {
     "data": {
      "text/html": [
       "<div>\n",
       "<style scoped>\n",
       "    .dataframe tbody tr th:only-of-type {\n",
       "        vertical-align: middle;\n",
       "    }\n",
       "\n",
       "    .dataframe tbody tr th {\n",
       "        vertical-align: top;\n",
       "    }\n",
       "\n",
       "    .dataframe thead th {\n",
       "        text-align: right;\n",
       "    }\n",
       "</style>\n",
       "<table border=\"1\" class=\"dataframe\">\n",
       "  <thead>\n",
       "    <tr style=\"text-align: right;\">\n",
       "      <th></th>\n",
       "      <th></th>\n",
       "      <th>5</th>\n",
       "      <th>10</th>\n",
       "      <th>30</th>\n",
       "      <th>50</th>\n",
       "      <th>80</th>\n",
       "      <th>100</th>\n",
       "    </tr>\n",
       "  </thead>\n",
       "  <tbody>\n",
       "    <tr>\n",
       "      <th rowspan=\"2\" valign=\"top\">IADQ_df</th>\n",
       "      <th>SVC</th>\n",
       "      <td>0.811111</td>\n",
       "      <td>0.811111</td>\n",
       "      <td>0.811111</td>\n",
       "      <td>0.777778</td>\n",
       "      <td>0.833333</td>\n",
       "      <td>0.833333</td>\n",
       "    </tr>\n",
       "    <tr>\n",
       "      <th>Random Forest</th>\n",
       "      <td>0.811111</td>\n",
       "      <td>0.811111</td>\n",
       "      <td>0.822222</td>\n",
       "      <td>0.811111</td>\n",
       "      <td>0.822222</td>\n",
       "      <td>0.833333</td>\n",
       "    </tr>\n",
       "    <tr>\n",
       "      <th rowspan=\"2\" valign=\"top\">PRMQ_df</th>\n",
       "      <th>SVC</th>\n",
       "      <td>0.829181</td>\n",
       "      <td>0.88968</td>\n",
       "      <td>0.875445</td>\n",
       "      <td>0.879004</td>\n",
       "      <td>0.875445</td>\n",
       "      <td>0.900356</td>\n",
       "    </tr>\n",
       "    <tr>\n",
       "      <th>Random Forest</th>\n",
       "      <td>0.829181</td>\n",
       "      <td>0.886121</td>\n",
       "      <td>0.882562</td>\n",
       "      <td>0.907473</td>\n",
       "      <td>0.928826</td>\n",
       "      <td>0.921708</td>\n",
       "    </tr>\n",
       "    <tr>\n",
       "      <th rowspan=\"2\" valign=\"top\">RAW_DDDT</th>\n",
       "      <th>SVC</th>\n",
       "      <td>0.690355</td>\n",
       "      <td>0.746193</td>\n",
       "      <td>0.746193</td>\n",
       "      <td>0.736041</td>\n",
       "      <td>0.741117</td>\n",
       "      <td>0.751269</td>\n",
       "    </tr>\n",
       "    <tr>\n",
       "      <th>Random Forest</th>\n",
       "      <td>0.690355</td>\n",
       "      <td>0.730964</td>\n",
       "      <td>0.695431</td>\n",
       "      <td>0.690355</td>\n",
       "      <td>0.766497</td>\n",
       "      <td>0.766497</td>\n",
       "    </tr>\n",
       "  </tbody>\n",
       "</table>\n",
       "</div>"
      ],
      "text/plain": [
       "                             5         10        30        50        80   \\\n",
       "IADQ_df  SVC            0.811111  0.811111  0.811111  0.777778  0.833333   \n",
       "         Random Forest  0.811111  0.811111  0.822222  0.811111  0.822222   \n",
       "PRMQ_df  SVC            0.829181   0.88968  0.875445  0.879004  0.875445   \n",
       "         Random Forest  0.829181  0.886121  0.882562  0.907473  0.928826   \n",
       "RAW_DDDT SVC            0.690355  0.746193  0.746193  0.736041  0.741117   \n",
       "         Random Forest  0.690355  0.730964  0.695431  0.690355  0.766497   \n",
       "\n",
       "                             100  \n",
       "IADQ_df  SVC            0.833333  \n",
       "         Random Forest  0.833333  \n",
       "PRMQ_df  SVC            0.900356  \n",
       "         Random Forest  0.921708  \n",
       "RAW_DDDT SVC            0.751269  \n",
       "         Random Forest  0.766497  "
      ]
     },
     "execution_count": 58,
     "metadata": {},
     "output_type": "execute_result"
    }
   ],
   "source": [
    "scores_chi2_all"
   ]
  },
  {
   "cell_type": "markdown",
   "metadata": {},
   "source": [
    "Lasso feature importance/selection"
   ]
  },
  {
   "cell_type": "code",
   "execution_count": 59,
   "metadata": {},
   "outputs": [],
   "source": [
    "def loglasso_coefs(X_train, y_train):\n",
    "    \"\"\"Importance function that uses Lasso logistic regression coefficients for each feature as scores.\\n\"\"\"\n",
    "    lasso = sklearn.linear_model.LogisticRegressionCV(\n",
    "        cv=5,\n",
    "        random_state=RANDOM_STATE, \n",
    "        penalty='l1', \n",
    "        solver='liblinear',\n",
    "        max_iter=1000\n",
    "    ).fit(X_train, y_train)\n",
    "    return np.abs(lasso.coef_[0])"
   ]
  },
  {
   "cell_type": "code",
   "execution_count": 60,
   "metadata": {},
   "outputs": [],
   "source": [
    "scores_lasso, features_lasso = eval_for_each_dataset(datasets,dataset_names, models, model_names, percentiles,feature_select_func=loglasso_coefs)"
   ]
  },
  {
   "cell_type": "code",
   "execution_count": 61,
   "metadata": {},
   "outputs": [
    {
     "data": {
      "text/html": [
       "<div>\n",
       "<style scoped>\n",
       "    .dataframe tbody tr th:only-of-type {\n",
       "        vertical-align: middle;\n",
       "    }\n",
       "\n",
       "    .dataframe tbody tr th {\n",
       "        vertical-align: top;\n",
       "    }\n",
       "\n",
       "    .dataframe thead th {\n",
       "        text-align: right;\n",
       "    }\n",
       "</style>\n",
       "<table border=\"1\" class=\"dataframe\">\n",
       "  <thead>\n",
       "    <tr style=\"text-align: right;\">\n",
       "      <th></th>\n",
       "      <th></th>\n",
       "      <th>5</th>\n",
       "      <th>10</th>\n",
       "      <th>30</th>\n",
       "      <th>50</th>\n",
       "      <th>80</th>\n",
       "      <th>100</th>\n",
       "    </tr>\n",
       "  </thead>\n",
       "  <tbody>\n",
       "    <tr>\n",
       "      <th rowspan=\"2\" valign=\"top\">IADQ_df</th>\n",
       "      <th>SVC</th>\n",
       "      <td>0.722222</td>\n",
       "      <td>0.722222</td>\n",
       "      <td>0.777778</td>\n",
       "      <td>0.822222</td>\n",
       "      <td>0.822222</td>\n",
       "      <td>0.833333</td>\n",
       "    </tr>\n",
       "    <tr>\n",
       "      <th>Random Forest</th>\n",
       "      <td>0.722222</td>\n",
       "      <td>0.722222</td>\n",
       "      <td>0.822222</td>\n",
       "      <td>0.811111</td>\n",
       "      <td>0.788889</td>\n",
       "      <td>0.833333</td>\n",
       "    </tr>\n",
       "    <tr>\n",
       "      <th rowspan=\"2\" valign=\"top\">PRMQ_df</th>\n",
       "      <th>SVC</th>\n",
       "      <td>0.829181</td>\n",
       "      <td>0.857651</td>\n",
       "      <td>0.88968</td>\n",
       "      <td>0.900356</td>\n",
       "      <td>0.896797</td>\n",
       "      <td>0.900356</td>\n",
       "    </tr>\n",
       "    <tr>\n",
       "      <th>Random Forest</th>\n",
       "      <td>0.829181</td>\n",
       "      <td>0.836299</td>\n",
       "      <td>0.882562</td>\n",
       "      <td>0.914591</td>\n",
       "      <td>0.921708</td>\n",
       "      <td>0.921708</td>\n",
       "    </tr>\n",
       "    <tr>\n",
       "      <th rowspan=\"2\" valign=\"top\">RAW_DDDT</th>\n",
       "      <th>SVC</th>\n",
       "      <td>0.680203</td>\n",
       "      <td>0.720812</td>\n",
       "      <td>0.761421</td>\n",
       "      <td>0.741117</td>\n",
       "      <td>0.756345</td>\n",
       "      <td>0.751269</td>\n",
       "    </tr>\n",
       "    <tr>\n",
       "      <th>Random Forest</th>\n",
       "      <td>0.680203</td>\n",
       "      <td>0.746193</td>\n",
       "      <td>0.730964</td>\n",
       "      <td>0.736041</td>\n",
       "      <td>0.766497</td>\n",
       "      <td>0.766497</td>\n",
       "    </tr>\n",
       "  </tbody>\n",
       "</table>\n",
       "</div>"
      ],
      "text/plain": [
       "                             5         10        30        50        80   \\\n",
       "IADQ_df  SVC            0.722222  0.722222  0.777778  0.822222  0.822222   \n",
       "         Random Forest  0.722222  0.722222  0.822222  0.811111  0.788889   \n",
       "PRMQ_df  SVC            0.829181  0.857651   0.88968  0.900356  0.896797   \n",
       "         Random Forest  0.829181  0.836299  0.882562  0.914591  0.921708   \n",
       "RAW_DDDT SVC            0.680203  0.720812  0.761421  0.741117  0.756345   \n",
       "         Random Forest  0.680203  0.746193  0.730964  0.736041  0.766497   \n",
       "\n",
       "                             100  \n",
       "IADQ_df  SVC            0.833333  \n",
       "         Random Forest  0.833333  \n",
       "PRMQ_df  SVC            0.900356  \n",
       "         Random Forest  0.921708  \n",
       "RAW_DDDT SVC            0.751269  \n",
       "         Random Forest  0.766497  "
      ]
     },
     "execution_count": 61,
     "metadata": {},
     "output_type": "execute_result"
    }
   ],
   "source": [
    "scores_lasso"
   ]
  },
  {
   "cell_type": "code",
   "execution_count": 62,
   "metadata": {},
   "outputs": [
    {
     "ename": "KeyError",
     "evalue": "'Pr1'",
     "output_type": "error",
     "traceback": [
      "\u001b[1;31m---------------------------------------------------------------------------\u001b[0m",
      "\u001b[1;31mKeyError\u001b[0m                                  Traceback (most recent call last)",
      "\u001b[1;32mc:\\Users\\xps\\anaconda3\\envs\\env\\lib\\site-packages\\pandas\\core\\indexes\\base.py\u001b[0m in \u001b[0;36mget_loc\u001b[1;34m(self, key, method, tolerance)\u001b[0m\n\u001b[0;32m   3620\u001b[0m             \u001b[1;32mtry\u001b[0m\u001b[1;33m:\u001b[0m\u001b[1;33m\u001b[0m\u001b[1;33m\u001b[0m\u001b[0m\n\u001b[1;32m-> 3621\u001b[1;33m                 \u001b[1;32mreturn\u001b[0m \u001b[0mself\u001b[0m\u001b[1;33m.\u001b[0m\u001b[0m_engine\u001b[0m\u001b[1;33m.\u001b[0m\u001b[0mget_loc\u001b[0m\u001b[1;33m(\u001b[0m\u001b[0mcasted_key\u001b[0m\u001b[1;33m)\u001b[0m\u001b[1;33m\u001b[0m\u001b[1;33m\u001b[0m\u001b[0m\n\u001b[0m\u001b[0;32m   3622\u001b[0m             \u001b[1;32mexcept\u001b[0m \u001b[0mKeyError\u001b[0m \u001b[1;32mas\u001b[0m \u001b[0merr\u001b[0m\u001b[1;33m:\u001b[0m\u001b[1;33m\u001b[0m\u001b[1;33m\u001b[0m\u001b[0m\n",
      "\u001b[1;32mc:\\Users\\xps\\anaconda3\\envs\\env\\lib\\site-packages\\pandas\\_libs\\index.pyx\u001b[0m in \u001b[0;36mpandas._libs.index.IndexEngine.get_loc\u001b[1;34m()\u001b[0m\n",
      "\u001b[1;32mc:\\Users\\xps\\anaconda3\\envs\\env\\lib\\site-packages\\pandas\\_libs\\index.pyx\u001b[0m in \u001b[0;36mpandas._libs.index.IndexEngine.get_loc\u001b[1;34m()\u001b[0m\n",
      "\u001b[1;32mpandas\\_libs\\hashtable_class_helper.pxi\u001b[0m in \u001b[0;36mpandas._libs.hashtable.PyObjectHashTable.get_item\u001b[1;34m()\u001b[0m\n",
      "\u001b[1;32mpandas\\_libs\\hashtable_class_helper.pxi\u001b[0m in \u001b[0;36mpandas._libs.hashtable.PyObjectHashTable.get_item\u001b[1;34m()\u001b[0m\n",
      "\u001b[1;31mKeyError\u001b[0m: 'Pr1'",
      "\nThe above exception was the direct cause of the following exception:\n",
      "\u001b[1;31mKeyError\u001b[0m                                  Traceback (most recent call last)",
      "\u001b[1;32m~\\AppData\\Local\\Temp/ipykernel_2584/1940082796.py\u001b[0m in \u001b[0;36m<module>\u001b[1;34m\u001b[0m\n\u001b[1;32m----> 1\u001b[1;33m \u001b[0mdata_exp\u001b[0m \u001b[1;33m=\u001b[0m \u001b[0madd_interactions\u001b[0m\u001b[1;33m(\u001b[0m\u001b[0mrawdata\u001b[0m\u001b[1;33m,\u001b[0m \u001b[0mcol_names\u001b[0m\u001b[1;33m=\u001b[0m\u001b[1;33m[\u001b[0m\u001b[1;34m'Pr1'\u001b[0m\u001b[1;33m,\u001b[0m \u001b[1;34m'Pr2'\u001b[0m\u001b[1;33m,\u001b[0m \u001b[1;34m'Pr3'\u001b[0m\u001b[1;33m]\u001b[0m\u001b[1;33m)\u001b[0m\u001b[1;33m\u001b[0m\u001b[1;33m\u001b[0m\u001b[0m\n\u001b[0m\u001b[0;32m      2\u001b[0m \u001b[0mdata_exp\u001b[0m \u001b[1;33m=\u001b[0m \u001b[0madd_interactions\u001b[0m\u001b[1;33m(\u001b[0m\u001b[0mdata_exp\u001b[0m\u001b[1;33m,\u001b[0m \u001b[0mcol_names\u001b[0m\u001b[1;33m=\u001b[0m\u001b[1;33m[\u001b[0m\u001b[1;34m'FA1'\u001b[0m\u001b[1;33m,\u001b[0m \u001b[1;34m'FA2'\u001b[0m\u001b[1;33m,\u001b[0m \u001b[1;34m'FA3'\u001b[0m\u001b[1;33m]\u001b[0m\u001b[1;33m)\u001b[0m\u001b[1;33m\u001b[0m\u001b[1;33m\u001b[0m\u001b[0m\n\u001b[0;32m      3\u001b[0m \u001b[0mdata_exp\u001b[0m \u001b[1;33m=\u001b[0m \u001b[0madd_interactions\u001b[0m\u001b[1;33m(\u001b[0m\u001b[0mdata_exp\u001b[0m\u001b[1;33m,\u001b[0m \u001b[0mcol_names\u001b[0m\u001b[1;33m=\u001b[0m\u001b[1;33m[\u001b[0m\u001b[1;34m'FI1'\u001b[0m\u001b[1;33m,\u001b[0m \u001b[1;34m'FI2'\u001b[0m\u001b[1;33m,\u001b[0m \u001b[1;34m'FI3'\u001b[0m\u001b[1;33m]\u001b[0m\u001b[1;33m)\u001b[0m\u001b[1;33m\u001b[0m\u001b[1;33m\u001b[0m\u001b[0m\n\u001b[0;32m      4\u001b[0m \u001b[1;33m\u001b[0m\u001b[0m\n\u001b[0;32m      5\u001b[0m \u001b[0mX_exp\u001b[0m \u001b[1;33m=\u001b[0m \u001b[0mdata_exp\u001b[0m\u001b[1;33m.\u001b[0m\u001b[0mdrop\u001b[0m\u001b[1;33m(\u001b[0m\u001b[1;33m[\u001b[0m\u001b[0mTARGET\u001b[0m\u001b[1;33m]\u001b[0m\u001b[1;33m,\u001b[0m\u001b[0maxis\u001b[0m\u001b[1;33m=\u001b[0m\u001b[1;36m1\u001b[0m\u001b[1;33m)\u001b[0m\u001b[1;33m\u001b[0m\u001b[1;33m\u001b[0m\u001b[0m\n",
      "\u001b[1;32m~\\AppData\\Local\\Temp/ipykernel_2584/4050065343.py\u001b[0m in \u001b[0;36madd_interactions\u001b[1;34m(df, col_names, max_order)\u001b[0m\n\u001b[0;32m     50\u001b[0m     \u001b[1;32mfor\u001b[0m \u001b[0mints_ord_i\u001b[0m \u001b[1;32min\u001b[0m \u001b[0mall_ints\u001b[0m\u001b[1;33m:\u001b[0m\u001b[1;33m\u001b[0m\u001b[1;33m\u001b[0m\u001b[0m\n\u001b[0;32m     51\u001b[0m         \u001b[1;32mfor\u001b[0m \u001b[0minter\u001b[0m \u001b[1;32min\u001b[0m \u001b[0mints_ord_i\u001b[0m\u001b[1;33m:\u001b[0m\u001b[1;33m\u001b[0m\u001b[1;33m\u001b[0m\u001b[0m\n\u001b[1;32m---> 52\u001b[1;33m             \u001b[0mnew_col\u001b[0m \u001b[1;33m=\u001b[0m \u001b[0mcalc_interaction\u001b[0m\u001b[1;33m(\u001b[0m\u001b[0mdf\u001b[0m\u001b[1;33m,\u001b[0m\u001b[0minter\u001b[0m\u001b[1;33m)\u001b[0m\u001b[1;33m\u001b[0m\u001b[1;33m\u001b[0m\u001b[0m\n\u001b[0m\u001b[0;32m     53\u001b[0m             \u001b[0mres\u001b[0m\u001b[1;33m[\u001b[0m\u001b[1;34m'.'\u001b[0m\u001b[1;33m.\u001b[0m\u001b[0mjoin\u001b[0m\u001b[1;33m(\u001b[0m\u001b[0mmap\u001b[0m\u001b[1;33m(\u001b[0m\u001b[0mstr\u001b[0m\u001b[1;33m,\u001b[0m\u001b[0minter\u001b[0m\u001b[1;33m)\u001b[0m\u001b[1;33m)\u001b[0m\u001b[1;33m]\u001b[0m \u001b[1;33m=\u001b[0m \u001b[0mnew_col\u001b[0m\u001b[1;33m\u001b[0m\u001b[1;33m\u001b[0m\u001b[0m\n\u001b[0;32m     54\u001b[0m     \u001b[1;32mreturn\u001b[0m \u001b[0mres\u001b[0m\u001b[1;33m\u001b[0m\u001b[1;33m\u001b[0m\u001b[0m\n",
      "\u001b[1;32m~\\AppData\\Local\\Temp/ipykernel_2584/4050065343.py\u001b[0m in \u001b[0;36mcalc_interaction\u001b[1;34m(data, cols)\u001b[0m\n\u001b[0;32m     27\u001b[0m     \u001b[0mres\u001b[0m \u001b[1;33m=\u001b[0m \u001b[0mpd\u001b[0m\u001b[1;33m.\u001b[0m\u001b[0mSeries\u001b[0m\u001b[1;33m(\u001b[0m\u001b[0mdata\u001b[0m\u001b[1;33m=\u001b[0m\u001b[0mnp\u001b[0m\u001b[1;33m.\u001b[0m\u001b[0mones\u001b[0m\u001b[1;33m(\u001b[0m\u001b[0mdata\u001b[0m\u001b[1;33m.\u001b[0m\u001b[0mshape\u001b[0m\u001b[1;33m[\u001b[0m\u001b[1;36m0\u001b[0m\u001b[1;33m]\u001b[0m\u001b[1;33m)\u001b[0m\u001b[1;33m)\u001b[0m\u001b[1;33m\u001b[0m\u001b[1;33m\u001b[0m\u001b[0m\n\u001b[0;32m     28\u001b[0m     \u001b[1;32mfor\u001b[0m \u001b[0mc\u001b[0m \u001b[1;32min\u001b[0m \u001b[0mcols\u001b[0m\u001b[1;33m:\u001b[0m\u001b[1;33m\u001b[0m\u001b[1;33m\u001b[0m\u001b[0m\n\u001b[1;32m---> 29\u001b[1;33m         \u001b[0mres\u001b[0m \u001b[1;33m*=\u001b[0m \u001b[0mdata\u001b[0m\u001b[1;33m[\u001b[0m\u001b[0mc\u001b[0m\u001b[1;33m]\u001b[0m\u001b[1;33m\u001b[0m\u001b[1;33m\u001b[0m\u001b[0m\n\u001b[0m\u001b[0;32m     30\u001b[0m     \u001b[1;32mreturn\u001b[0m \u001b[0mres\u001b[0m\u001b[1;33m\u001b[0m\u001b[1;33m\u001b[0m\u001b[0m\n\u001b[0;32m     31\u001b[0m \u001b[1;33m\u001b[0m\u001b[0m\n",
      "\u001b[1;32mc:\\Users\\xps\\anaconda3\\envs\\env\\lib\\site-packages\\pandas\\core\\frame.py\u001b[0m in \u001b[0;36m__getitem__\u001b[1;34m(self, key)\u001b[0m\n\u001b[0;32m   3503\u001b[0m             \u001b[1;32mif\u001b[0m \u001b[0mself\u001b[0m\u001b[1;33m.\u001b[0m\u001b[0mcolumns\u001b[0m\u001b[1;33m.\u001b[0m\u001b[0mnlevels\u001b[0m \u001b[1;33m>\u001b[0m \u001b[1;36m1\u001b[0m\u001b[1;33m:\u001b[0m\u001b[1;33m\u001b[0m\u001b[1;33m\u001b[0m\u001b[0m\n\u001b[0;32m   3504\u001b[0m                 \u001b[1;32mreturn\u001b[0m \u001b[0mself\u001b[0m\u001b[1;33m.\u001b[0m\u001b[0m_getitem_multilevel\u001b[0m\u001b[1;33m(\u001b[0m\u001b[0mkey\u001b[0m\u001b[1;33m)\u001b[0m\u001b[1;33m\u001b[0m\u001b[1;33m\u001b[0m\u001b[0m\n\u001b[1;32m-> 3505\u001b[1;33m             \u001b[0mindexer\u001b[0m \u001b[1;33m=\u001b[0m \u001b[0mself\u001b[0m\u001b[1;33m.\u001b[0m\u001b[0mcolumns\u001b[0m\u001b[1;33m.\u001b[0m\u001b[0mget_loc\u001b[0m\u001b[1;33m(\u001b[0m\u001b[0mkey\u001b[0m\u001b[1;33m)\u001b[0m\u001b[1;33m\u001b[0m\u001b[1;33m\u001b[0m\u001b[0m\n\u001b[0m\u001b[0;32m   3506\u001b[0m             \u001b[1;32mif\u001b[0m \u001b[0mis_integer\u001b[0m\u001b[1;33m(\u001b[0m\u001b[0mindexer\u001b[0m\u001b[1;33m)\u001b[0m\u001b[1;33m:\u001b[0m\u001b[1;33m\u001b[0m\u001b[1;33m\u001b[0m\u001b[0m\n\u001b[0;32m   3507\u001b[0m                 \u001b[0mindexer\u001b[0m \u001b[1;33m=\u001b[0m \u001b[1;33m[\u001b[0m\u001b[0mindexer\u001b[0m\u001b[1;33m]\u001b[0m\u001b[1;33m\u001b[0m\u001b[1;33m\u001b[0m\u001b[0m\n",
      "\u001b[1;32mc:\\Users\\xps\\anaconda3\\envs\\env\\lib\\site-packages\\pandas\\core\\indexes\\base.py\u001b[0m in \u001b[0;36mget_loc\u001b[1;34m(self, key, method, tolerance)\u001b[0m\n\u001b[0;32m   3621\u001b[0m                 \u001b[1;32mreturn\u001b[0m \u001b[0mself\u001b[0m\u001b[1;33m.\u001b[0m\u001b[0m_engine\u001b[0m\u001b[1;33m.\u001b[0m\u001b[0mget_loc\u001b[0m\u001b[1;33m(\u001b[0m\u001b[0mcasted_key\u001b[0m\u001b[1;33m)\u001b[0m\u001b[1;33m\u001b[0m\u001b[1;33m\u001b[0m\u001b[0m\n\u001b[0;32m   3622\u001b[0m             \u001b[1;32mexcept\u001b[0m \u001b[0mKeyError\u001b[0m \u001b[1;32mas\u001b[0m \u001b[0merr\u001b[0m\u001b[1;33m:\u001b[0m\u001b[1;33m\u001b[0m\u001b[1;33m\u001b[0m\u001b[0m\n\u001b[1;32m-> 3623\u001b[1;33m                 \u001b[1;32mraise\u001b[0m \u001b[0mKeyError\u001b[0m\u001b[1;33m(\u001b[0m\u001b[0mkey\u001b[0m\u001b[1;33m)\u001b[0m \u001b[1;32mfrom\u001b[0m \u001b[0merr\u001b[0m\u001b[1;33m\u001b[0m\u001b[1;33m\u001b[0m\u001b[0m\n\u001b[0m\u001b[0;32m   3624\u001b[0m             \u001b[1;32mexcept\u001b[0m \u001b[0mTypeError\u001b[0m\u001b[1;33m:\u001b[0m\u001b[1;33m\u001b[0m\u001b[1;33m\u001b[0m\u001b[0m\n\u001b[0;32m   3625\u001b[0m                 \u001b[1;31m# If we have a listlike key, _check_indexing_error will raise\u001b[0m\u001b[1;33m\u001b[0m\u001b[1;33m\u001b[0m\u001b[0m\n",
      "\u001b[1;31mKeyError\u001b[0m: 'Pr1'"
     ]
    }
   ],
   "source": [
    "data_exp = add_interactions(rawdata, col_names=['Pr1', 'Pr2', 'Pr3'])\n",
    "data_exp = add_interactions(data_exp, col_names=['FA1', 'FA2', 'FA3'])\n",
    "data_exp = add_interactions(data_exp, col_names=['FI1', 'FI2', 'FI3'])\n",
    "\n",
    "X_exp = data_exp.drop([TARGET],axis=1)\n",
    "y_exp = data_exp[TARGET]"
   ]
  },
  {
   "cell_type": "code",
   "execution_count": null,
   "metadata": {},
   "outputs": [
    {
     "ename": "NameError",
     "evalue": "name 'y_tv' is not defined",
     "output_type": "error",
     "traceback": [
      "\u001b[1;31m---------------------------------------------------------------------------\u001b[0m",
      "\u001b[1;31mNameError\u001b[0m                                 Traceback (most recent call last)",
      "\u001b[1;32m~\\AppData\\Local\\Temp/ipykernel_14052/3196002792.py\u001b[0m in \u001b[0;36m<module>\u001b[1;34m\u001b[0m\n\u001b[0;32m      5\u001b[0m \u001b[0mX_exp_tv\u001b[0m \u001b[1;33m=\u001b[0m \u001b[0msc_exp\u001b[0m\u001b[1;33m.\u001b[0m\u001b[0mtransform\u001b[0m\u001b[1;33m(\u001b[0m\u001b[0mX_exp_tv\u001b[0m\u001b[1;33m)\u001b[0m\u001b[1;33m\u001b[0m\u001b[1;33m\u001b[0m\u001b[0m\n\u001b[0;32m      6\u001b[0m \u001b[1;33m\u001b[0m\u001b[0m\n\u001b[1;32m----> 7\u001b[1;33m \u001b[0mX_exp_val\u001b[0m\u001b[1;33m,\u001b[0m \u001b[0mX_exp_test\u001b[0m\u001b[1;33m,\u001b[0m \u001b[0my_exp_val\u001b[0m\u001b[1;33m,\u001b[0m \u001b[0my_exp_test\u001b[0m \u001b[1;33m=\u001b[0m \u001b[0mtrain_test_split\u001b[0m\u001b[1;33m(\u001b[0m\u001b[0mX_exp_tv\u001b[0m\u001b[1;33m,\u001b[0m \u001b[0my_tv\u001b[0m\u001b[1;33m,\u001b[0m \u001b[0mtest_size\u001b[0m\u001b[1;33m=\u001b[0m\u001b[0mVALSIZE\u001b[0m\u001b[1;33m,\u001b[0m\u001b[0mrandom_state\u001b[0m\u001b[1;33m=\u001b[0m\u001b[0mRANDOM_STATE\u001b[0m\u001b[1;33m)\u001b[0m\u001b[1;33m\u001b[0m\u001b[1;33m\u001b[0m\u001b[0m\n\u001b[0m",
      "\u001b[1;31mNameError\u001b[0m: name 'y_tv' is not defined"
     ]
    }
   ],
   "source": [
    "X_exp_train, X_exp_tv, y_exp_train, y_exp_tv = train_test_split(X_exp, y_exp, test_size=TESTSIZE,random_state=RANDOM_STATE)\n",
    "\n",
    "sc_exp = StandardScaler()\n",
    "X_exp_train = sc_exp.fit_transform(X_exp_train)\n",
    "X_exp_tv = sc_exp.transform(X_exp_tv)\n",
    "\n",
    "X_exp_val, X_exp_test, y_exp_val, y_exp_test = train_test_split(X_exp_tv, y_tv, test_size=VALSIZE,random_state=RANDOM_STATE)"
   ]
  },
  {
   "cell_type": "code",
   "execution_count": null,
   "metadata": {},
   "outputs": [
    {
     "data": {
      "text/plain": [
       "0.9444444444444444"
      ]
     },
     "execution_count": 53,
     "metadata": {},
     "output_type": "execute_result"
    }
   ],
   "source": [
    "np.sum(y_exp_train == 1)/np.sum(y_exp_train==0)"
   ]
  },
  {
   "cell_type": "code",
   "execution_count": null,
   "metadata": {},
   "outputs": [
    {
     "data": {
      "text/plain": [
       "0.8208955223880597"
      ]
     },
     "execution_count": 54,
     "metadata": {},
     "output_type": "execute_result"
    }
   ],
   "source": [
    "# lasso logistic model with no interactions\n",
    "loglasso = sklearn.linear_model.LogisticRegressionCV(\n",
    "    cv=5,\n",
    "    random_state=RANDOM_STATE, \n",
    "    penalty='l1', \n",
    "    solver='liblinear',\n",
    "    max_iter=1000\n",
    ").fit(X_train, y_train)\n",
    "\n",
    "loglasso.score(X_val, y_val)"
   ]
  },
  {
   "cell_type": "code",
   "execution_count": null,
   "metadata": {},
   "outputs": [
    {
     "data": {
      "text/plain": [
       "array([[ 0.34551073, -0.7710643 , -0.32557168, -0.77609551, -0.70529487,\n",
       "         0.14356044, -0.23835024,  0.01854565, -0.53042108]])"
      ]
     },
     "execution_count": 55,
     "metadata": {},
     "output_type": "execute_result"
    }
   ],
   "source": [
    "loglasso.coef_"
   ]
  },
  {
   "cell_type": "code",
   "execution_count": null,
   "metadata": {},
   "outputs": [
    {
     "name": "stdout",
     "output_type": "stream",
     "text": [
      "Used features:\n",
      "['Pr1' 'Pr2' 'Pr3' 'FA1' 'FA2' 'FA3' 'FI1' 'FI2' 'FI3']\n"
     ]
    }
   ],
   "source": [
    "print(f'Used features:\\n{data_exp.columns[loglasso.coef_.nonzero()[-1]].to_numpy()}')"
   ]
  },
  {
   "cell_type": "code",
   "execution_count": null,
   "metadata": {},
   "outputs": [
    {
     "data": {
      "text/plain": [
       "0.8208955223880597"
      ]
     },
     "execution_count": 57,
     "metadata": {},
     "output_type": "execute_result"
    }
   ],
   "source": [
    "# lasso logistic model with interactions\n",
    "loglasso_exp = sklearn.linear_model.LogisticRegressionCV(\n",
    "    cv=5,\n",
    "    random_state=RANDOM_STATE, \n",
    "    penalty='l1', \n",
    "    solver='liblinear',\n",
    "    max_iter=10000\n",
    ").fit(X_exp_train, y_exp_train)\n",
    "\n",
    "loglasso_exp.score(X_exp_val, y_exp_val)"
   ]
  },
  {
   "cell_type": "code",
   "execution_count": null,
   "metadata": {},
   "outputs": [
    {
     "data": {
      "text/plain": [
       "array([[ 0.39602845, -0.1284921 ,  0.        , -1.00973356, -0.20137843,\n",
       "         0.5125152 , -0.14046987,  0.45907492,  0.        ,  0.        ,\n",
       "         0.4720242 , -0.5441529 , -0.77596032,  0.        ,  0.22291391,\n",
       "        -0.89326129,  0.        ,  0.        , -0.02781083, -0.46856733,\n",
       "        -0.43026883]])"
      ]
     },
     "execution_count": 58,
     "metadata": {},
     "output_type": "execute_result"
    }
   ],
   "source": [
    "loglasso_exp.coef_"
   ]
  },
  {
   "cell_type": "code",
   "execution_count": null,
   "metadata": {},
   "outputs": [
    {
     "name": "stdout",
     "output_type": "stream",
     "text": [
      "Used features:\n",
      "['Pr1' 'Pr2' 'FA1' 'FA2' 'FA3' 'FI1' 'FI2' 'Pr1.Pr2' 'Pr1.Pr3' 'Pr2.Pr3'\n",
      " 'FA1.FA2' 'FA1.FA3' 'FI1.FI2' 'FI1.FI3' 'FI2.FI3']\n"
     ]
    }
   ],
   "source": [
    "print(f'Used features:\\n{data_exp.columns[loglasso_exp.coef_.nonzero()[-1]].to_numpy()}')"
   ]
  },
  {
   "cell_type": "code",
   "execution_count": null,
   "metadata": {},
   "outputs": [],
   "source": [
    "# ridge regression\n",
    "logr = LogisticRegression(penalty='l2',random_state=RANDOM_STATE)\n",
    "rfe = RFE(estimator=logr, n_features_to_select=5, step=1)\n",
    "X_train_5 = rfe.fit_transform(X_train, y_train)"
   ]
  },
  {
   "cell_type": "code",
   "execution_count": null,
   "metadata": {},
   "outputs": [
    {
     "data": {
      "text/plain": [
       "0.8059701492537313"
      ]
     },
     "execution_count": 61,
     "metadata": {},
     "output_type": "execute_result"
    }
   ],
   "source": [
    "X_val_5 = rfe.transform(X_val)\n",
    "logr_5 = LogisticRegression(penalty='l2', random_state=RANDOM_STATE).fit(X_train_5, y_train)\n",
    "logr_5.score(X_val_5, y_val)"
   ]
  },
  {
   "cell_type": "code",
   "execution_count": null,
   "metadata": {},
   "outputs": [],
   "source": [
    "from sklearn.model_selection import GridSearchCV\n",
    "from sklearn.ensemble import RandomForestClassifier\n",
    "from sklearn.tree import DecisionTreeClassifier\n",
    "from sklearn.svm import SVC"
   ]
  },
  {
   "cell_type": "code",
   "execution_count": null,
   "metadata": {},
   "outputs": [
    {
     "data": {
      "text/plain": [
       "0.8208955223880597"
      ]
     },
     "execution_count": 63,
     "metadata": {},
     "output_type": "execute_result"
    }
   ],
   "source": [
    "random_forest_params =  {\n",
    "        'n_estimators': [1, 2, 5, 10],\n",
    "        'max_depth': [1, 2, 3],\n",
    "        'random_state': [RANDOM_STATE],\n",
    "    }\n",
    "model = RandomForestClassifier()\n",
    "random_forest = GridSearchCV(model, random_forest_params)\n",
    "random_forest.fit(X_train, y_train)\n",
    "random_forest.score(X_val, y_val)"
   ]
  }
 ],
 "metadata": {
  "kernelspec": {
   "display_name": "Python 3.9.7 ('env')",
   "language": "python",
   "name": "python3"
  },
  "language_info": {
   "codemirror_mode": {
    "name": "ipython",
    "version": 3
   },
   "file_extension": ".py",
   "mimetype": "text/x-python",
   "name": "python",
   "nbconvert_exporter": "python",
   "pygments_lexer": "ipython3",
   "version": "3.9.7"
  },
  "orig_nbformat": 4,
  "vscode": {
   "interpreter": {
    "hash": "bd014cc4e5429353d7b878851ecdc46528d411a2d3ddf6baad2dcafbff2ad3e4"
   }
  }
 },
 "nbformat": 4,
 "nbformat_minor": 2
}
